{
 "cells": [
  {
   "cell_type": "code",
   "execution_count": 32,
   "metadata": {},
   "outputs": [],
   "source": [
    "import numpy as np"
   ]
  },
  {
   "cell_type": "code",
   "execution_count": 43,
   "metadata": {},
   "outputs": [
    {
     "name": "stdout",
     "output_type": "stream",
     "text": [
      "No.of Classes = 2\n",
      "No.of Features = 4\n"
     ]
    }
   ],
   "source": [
    "read = np.loadtxt('dataset_LP_1.txt',delimiter=',')\n",
    "np.random.shuffle(read)\n",
    "labels = read[:,-1]\n",
    "data = read[:,0:len(read[0])-1]\n",
    "\n",
    "nclasses = len(np.unique(labels))\n",
    "nfeatures = len(data[0])\n",
    "print(\"No.of Classes = {}\".format(nclasses))\n",
    "print(\"No.of Features = {}\".format(nfeatures))"
   ]
  },
  {
   "cell_type": "code",
   "execution_count": 34,
   "metadata": {},
   "outputs": [
    {
     "name": "stdout",
     "output_type": "stream",
     "text": [
      "[[ 2.0007   1.8644   2.6491   0.47369]\n",
      " [-1.6029  -0.38903  1.62     1.9103 ]\n",
      " [-0.2062   9.2207  -3.7044  -6.8103 ]\n",
      " ...\n",
      " [-0.38388 -1.0471   8.0514   0.49567]\n",
      " [ 1.1558   6.4003   1.5506   0.6961 ]\n",
      " [ 3.3004   7.0811  -1.3258   0.22283]]\n"
     ]
    }
   ],
   "source": [
    "train_size = int(len(data)*0.7)\n",
    "df_train = data[0:train_size]\n",
    "train_class = labels[0:train_size]\n",
    "train_class1 = np.reshape(train_class,(len(train_class),1))\n",
    "\n",
    "df_test  = data[train_size:]\n",
    "test_class = labels[train_size:]\n",
    "test_class1 = np.reshape(test_class,(len(test_class),1))\n",
    "print(df_train)"
   ]
  },
  {
   "cell_type": "code",
   "execution_count": 44,
   "metadata": {},
   "outputs": [],
   "source": [
    "m, n = df_train.shape\n",
    "mt, nt = df_test.shape\n",
    "lr = 0.01\n",
    "w = np.zeros((nfeatures,1))"
   ]
  },
  {
   "cell_type": "code",
   "execution_count": 39,
   "metadata": {},
   "outputs": [],
   "source": [
    "def predict(data, weights, bias):\n",
    "    gx = np.dot(data,weights)+bias\n",
    "    if(gx>=0):\n",
    "         return 1\n",
    "   \n",
    "    return 0"
   ]
  },
  {
   "cell_type": "code",
   "execution_count": 47,
   "metadata": {
    "scrolled": true
   },
   "outputs": [
    {
     "name": "stdout",
     "output_type": "stream",
     "text": [
      "Accuracy of training data=0.987500\n",
      "Weight vector is /n[[-2.97248036]\n",
      " [-1.621118  ]\n",
      " [-1.96497791]\n",
      " [-0.34549824]]\n"
     ]
    }
   ],
   "source": [
    "#fitting w\n",
    "flag = 1\n",
    "bias = 0.0\n",
    "epochs = 1000\n",
    "\n",
    "for e in range(epochs):    \n",
    "    count = 0\n",
    "    \n",
    "    for i in range(m):\n",
    "        xi = np.array(df_train[i])\n",
    "        xi = np.expand_dims(xi, axis=0)\n",
    "\n",
    "        \n",
    "        hx = predict(xi,w,bias)\n",
    "\n",
    "        delta = (train_class1[i] - hx)\n",
    "\n",
    "        if(delta != 0):\n",
    "            w = w + lr*delta*(xi.T)\n",
    "            bias = bias + lr * delta\n",
    "        else:\n",
    "            count += 1\n",
    "           \n",
    "        acc=count/len(df_train)\n",
    "        if acc==1.0:\n",
    "            flag = 0;\n",
    "            break\n",
    "    if(flag == 0):\n",
    "        break\n",
    "\n",
    "print('Accuracy of training data = %f'%(acc))\n",
    "print('Weight vector is {}'.format(w))\n"
   ]
  },
  {
   "cell_type": "code",
   "execution_count": 41,
   "metadata": {},
   "outputs": [],
   "source": [
    "#predicting for the test data\n",
    "y_testp = []\n",
    "for row in df_test:\n",
    "    xi = np.array(row)\n",
    "    xi = np.expand_dims(xi, axis=0)\n",
    "    y_testp.append(predict(xi,w,bias))\n"
   ]
  },
  {
   "cell_type": "code",
   "execution_count": 42,
   "metadata": {},
   "outputs": [
    {
     "name": "stdout",
     "output_type": "stream",
     "text": [
      "accuracy on test data =  98.54368932038835\n"
     ]
    }
   ],
   "source": [
    "#accuracy of test data\n",
    "count = 0\n",
    "for i in range(mt):\n",
    "    if y_testp[i] == test_class1[i]:\n",
    "        count = count + 1\n",
    "accuracy = (count/mt)*100\n",
    "print(\"accuracy on test data = \", accuracy)"
   ]
  }
 ],
 "metadata": {
  "kernelspec": {
   "display_name": "Python 3",
   "language": "python",
   "name": "python3"
  },
  "language_info": {
   "codemirror_mode": {
    "name": "ipython",
    "version": 3
   },
   "file_extension": ".py",
   "mimetype": "text/x-python",
   "name": "python",
   "nbconvert_exporter": "python",
   "pygments_lexer": "ipython3",
   "version": "3.7.6"
  }
 },
 "nbformat": 4,
 "nbformat_minor": 4
}
