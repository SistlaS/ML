{
 "cells": [
  {
   "cell_type": "code",
   "execution_count": 146,
   "metadata": {
    "colab": {
     "base_uri": "https://localhost:8080/"
    },
    "executionInfo": {
     "elapsed": 38177,
     "status": "ok",
     "timestamp": 1618756988595,
     "user": {
      "displayName": "Sarvesh Khetan",
      "photoUrl": "https://lh3.googleusercontent.com/a-/AOh14GiYvgp8tsqLQjHL82OfSEL-YYRULs9eO8SLPw2rDg=s64",
      "userId": "17514303311129929608"
     },
     "user_tz": -330
    },
    "id": "ruUz5bs_16ED",
    "outputId": "2da4b01c-694a-44a8-cdb6-fa9ec5240f46"
   },
   "outputs": [],
   "source": [
    "from IPython.core.interactiveshell import InteractiveShell\n",
    "InteractiveShell.ast_node_interactivity = \"all\"\n",
    "%matplotlib inline\n",
    "\n",
    "import numpy as np\n",
    "import pandas as pd\n",
    "import matplotlib.pyplot as plt\n",
    "import math\n",
    "import random"
   ]
  },
  {
   "cell_type": "code",
   "execution_count": 147,
   "metadata": {
    "colab": {
     "base_uri": "https://localhost:8080/",
     "height": 436
    },
    "executionInfo": {
     "elapsed": 1767,
     "status": "ok",
     "timestamp": 1618757019749,
     "user": {
      "displayName": "Sarvesh Khetan",
      "photoUrl": "https://lh3.googleusercontent.com/a-/AOh14GiYvgp8tsqLQjHL82OfSEL-YYRULs9eO8SLPw2rDg=s64",
      "userId": "17514303311129929608"
     },
     "user_tz": -330
    },
    "id": "WCCaCCk-1-5a",
    "outputId": "1e57faa8-1c76-4d8f-e3b4-92e7fd1c2a48"
   },
   "outputs": [
    {
     "data": {
      "text/plain": [
       "(2000, 7)"
      ]
     },
     "execution_count": 147,
     "metadata": {},
     "output_type": "execute_result"
    }
   ],
   "source": [
    "data = pd.read_csv('dataset_NN.csv')\n",
    "data.shape"
   ]
  },
  {
   "cell_type": "code",
   "execution_count": 148,
   "metadata": {
    "colab": {
     "base_uri": "https://localhost:8080/",
     "height": 419
    },
    "executionInfo": {
     "elapsed": 2857,
     "status": "ok",
     "timestamp": 1618757020859,
     "user": {
      "displayName": "Sarvesh Khetan",
      "photoUrl": "https://lh3.googleusercontent.com/a-/AOh14GiYvgp8tsqLQjHL82OfSEL-YYRULs9eO8SLPw2rDg=s64",
      "userId": "17514303311129929608"
     },
     "user_tz": -330
    },
    "id": "WE2srpvR2JUW",
    "outputId": "fbe1e292-1c1e-4cc7-d18d-747124f0c538"
   },
   "outputs": [],
   "source": [
    "#normalize the dataset\n",
    "col_names = np.array(data.columns)\n",
    "col_names = col_names[:-1]\n",
    "for i in col_names:\n",
    "    col = np.array(data[i])\n",
    "    norm = []\n",
    "    std = np.std(col)\n",
    "    mean = np.mean(col)\n",
    "    for j in col:\n",
    "        norm.append((j-mean)/std)\n",
    "    data[i] = norm"
   ]
  },
  {
   "cell_type": "code",
   "execution_count": 149,
   "metadata": {
    "colab": {
     "base_uri": "https://localhost:8080/",
     "height": 419
    },
    "executionInfo": {
     "elapsed": 2848,
     "status": "ok",
     "timestamp": 1618757020859,
     "user": {
      "displayName": "Sarvesh Khetan",
      "photoUrl": "https://lh3.googleusercontent.com/a-/AOh14GiYvgp8tsqLQjHL82OfSEL-YYRULs9eO8SLPw2rDg=s64",
      "userId": "17514303311129929608"
     },
     "user_tz": -330
    },
    "id": "NkEzOPI68VZx",
    "outputId": "edfa94a7-0793-407f-af41-d63c3d92082e"
   },
   "outputs": [
    {
     "data": {
      "text/html": [
       "<div>\n",
       "<style scoped>\n",
       "    .dataframe tbody tr th:only-of-type {\n",
       "        vertical-align: middle;\n",
       "    }\n",
       "\n",
       "    .dataframe tbody tr th {\n",
       "        vertical-align: top;\n",
       "    }\n",
       "\n",
       "    .dataframe thead th {\n",
       "        text-align: right;\n",
       "    }\n",
       "</style>\n",
       "<table border=\"1\" class=\"dataframe\">\n",
       "  <thead>\n",
       "    <tr style=\"text-align: right;\">\n",
       "      <th></th>\n",
       "      <th>att1</th>\n",
       "      <th>att2</th>\n",
       "      <th>att3</th>\n",
       "      <th>att4</th>\n",
       "      <th>att5</th>\n",
       "      <th>att6</th>\n",
       "      <th>class</th>\n",
       "    </tr>\n",
       "  </thead>\n",
       "  <tbody>\n",
       "    <tr>\n",
       "      <th>819</th>\n",
       "      <td>0.763401</td>\n",
       "      <td>1.109311</td>\n",
       "      <td>3.268371</td>\n",
       "      <td>-0.382144</td>\n",
       "      <td>-0.309680</td>\n",
       "      <td>-0.320259</td>\n",
       "      <td>5</td>\n",
       "    </tr>\n",
       "    <tr>\n",
       "      <th>186</th>\n",
       "      <td>0.763401</td>\n",
       "      <td>-1.518350</td>\n",
       "      <td>-1.019892</td>\n",
       "      <td>-0.849553</td>\n",
       "      <td>-1.213369</td>\n",
       "      <td>-1.193655</td>\n",
       "      <td>1</td>\n",
       "    </tr>\n",
       "    <tr>\n",
       "      <th>1720</th>\n",
       "      <td>2.267639</td>\n",
       "      <td>-1.518350</td>\n",
       "      <td>1.838950</td>\n",
       "      <td>-1.111514</td>\n",
       "      <td>-1.015239</td>\n",
       "      <td>-1.123670</td>\n",
       "      <td>9</td>\n",
       "    </tr>\n",
       "    <tr>\n",
       "      <th>1905</th>\n",
       "      <td>0.763401</td>\n",
       "      <td>-0.642463</td>\n",
       "      <td>0.409529</td>\n",
       "      <td>-0.507205</td>\n",
       "      <td>-0.914906</td>\n",
       "      <td>-0.589416</td>\n",
       "      <td>10</td>\n",
       "    </tr>\n",
       "    <tr>\n",
       "      <th>336</th>\n",
       "      <td>-0.740837</td>\n",
       "      <td>1.109311</td>\n",
       "      <td>0.409529</td>\n",
       "      <td>-0.549198</td>\n",
       "      <td>-0.960044</td>\n",
       "      <td>-0.670544</td>\n",
       "      <td>2</td>\n",
       "    </tr>\n",
       "    <tr>\n",
       "      <th>...</th>\n",
       "      <td>...</td>\n",
       "      <td>...</td>\n",
       "      <td>...</td>\n",
       "      <td>...</td>\n",
       "      <td>...</td>\n",
       "      <td>...</td>\n",
       "      <td>...</td>\n",
       "    </tr>\n",
       "    <tr>\n",
       "      <th>79</th>\n",
       "      <td>0.763401</td>\n",
       "      <td>-1.518350</td>\n",
       "      <td>-1.019892</td>\n",
       "      <td>-1.298726</td>\n",
       "      <td>-1.374405</td>\n",
       "      <td>-1.203324</td>\n",
       "      <td>1</td>\n",
       "    </tr>\n",
       "    <tr>\n",
       "      <th>1219</th>\n",
       "      <td>0.763401</td>\n",
       "      <td>-0.642463</td>\n",
       "      <td>0.409529</td>\n",
       "      <td>-0.155578</td>\n",
       "      <td>-0.609222</td>\n",
       "      <td>-0.419264</td>\n",
       "      <td>7</td>\n",
       "    </tr>\n",
       "    <tr>\n",
       "      <th>1683</th>\n",
       "      <td>2.267639</td>\n",
       "      <td>-1.518350</td>\n",
       "      <td>1.838950</td>\n",
       "      <td>-0.926582</td>\n",
       "      <td>-0.993393</td>\n",
       "      <td>-1.068692</td>\n",
       "      <td>9</td>\n",
       "    </tr>\n",
       "    <tr>\n",
       "      <th>600</th>\n",
       "      <td>-0.740837</td>\n",
       "      <td>1.109311</td>\n",
       "      <td>0.409529</td>\n",
       "      <td>0.544317</td>\n",
       "      <td>0.368031</td>\n",
       "      <td>0.511729</td>\n",
       "      <td>4</td>\n",
       "    </tr>\n",
       "    <tr>\n",
       "      <th>1844</th>\n",
       "      <td>0.763401</td>\n",
       "      <td>-0.642463</td>\n",
       "      <td>0.409529</td>\n",
       "      <td>-0.597191</td>\n",
       "      <td>-0.802436</td>\n",
       "      <td>-0.704943</td>\n",
       "      <td>10</td>\n",
       "    </tr>\n",
       "  </tbody>\n",
       "</table>\n",
       "<p>2000 rows × 7 columns</p>\n",
       "</div>"
      ],
      "text/plain": [
       "          att1      att2      att3      att4      att5      att6  class\n",
       "819   0.763401  1.109311  3.268371 -0.382144 -0.309680 -0.320259      5\n",
       "186   0.763401 -1.518350 -1.019892 -0.849553 -1.213369 -1.193655      1\n",
       "1720  2.267639 -1.518350  1.838950 -1.111514 -1.015239 -1.123670      9\n",
       "1905  0.763401 -0.642463  0.409529 -0.507205 -0.914906 -0.589416     10\n",
       "336  -0.740837  1.109311  0.409529 -0.549198 -0.960044 -0.670544      2\n",
       "...        ...       ...       ...       ...       ...       ...    ...\n",
       "79    0.763401 -1.518350 -1.019892 -1.298726 -1.374405 -1.203324      1\n",
       "1219  0.763401 -0.642463  0.409529 -0.155578 -0.609222 -0.419264      7\n",
       "1683  2.267639 -1.518350  1.838950 -0.926582 -0.993393 -1.068692      9\n",
       "600  -0.740837  1.109311  0.409529  0.544317  0.368031  0.511729      4\n",
       "1844  0.763401 -0.642463  0.409529 -0.597191 -0.802436 -0.704943     10\n",
       "\n",
       "[2000 rows x 7 columns]"
      ]
     },
     "execution_count": 149,
     "metadata": {},
     "output_type": "execute_result"
    }
   ],
   "source": [
    "#shuffling the data\n",
    "data_shuffle = data.sample(frac=1)\n",
    "data_shuffle"
   ]
  },
  {
   "cell_type": "code",
   "execution_count": 150,
   "metadata": {
    "executionInfo": {
     "elapsed": 2847,
     "status": "ok",
     "timestamp": 1618757020860,
     "user": {
      "displayName": "Sarvesh Khetan",
      "photoUrl": "https://lh3.googleusercontent.com/a-/AOh14GiYvgp8tsqLQjHL82OfSEL-YYRULs9eO8SLPw2rDg=s64",
      "userId": "17514303311129929608"
     },
     "user_tz": -330
    },
    "id": "D26zjv_rHIjJ"
   },
   "outputs": [],
   "source": [
    "#splitting the dataset into training data and testing data\n",
    "data_train = data_shuffle.iloc[:math.floor(0.7*data.shape[0])]\n",
    "data_test = data_shuffle.iloc[math.ceil(0.7*data.shape[0]):]\n",
    "x_train = np.array(data_train.iloc[:,:-1])\n",
    "y_train = np.array(data_train.iloc[:,-1])\n",
    "x_test = np.array(data_test.iloc[:,:-1])\n",
    "y_test = np.array(data_test.iloc[:,-1])"
   ]
  },
  {
   "cell_type": "markdown",
   "metadata": {
    "id": "TxsJbCRQIR04"
   },
   "source": [
    "## Single Hidden Layer Artificial Neural Network"
   ]
  },
  {
   "cell_type": "code",
   "execution_count": 151,
   "metadata": {
    "executionInfo": {
     "elapsed": 2159,
     "status": "ok",
     "timestamp": 1618757024177,
     "user": {
      "displayName": "Sarvesh Khetan",
      "photoUrl": "https://lh3.googleusercontent.com/a-/AOh14GiYvgp8tsqLQjHL82OfSEL-YYRULs9eO8SLPw2rDg=s64",
      "userId": "17514303311129929608"
     },
     "user_tz": -330
    },
    "id": "q7xZisqrK3yg"
   },
   "outputs": [],
   "source": [
    "#sigmoid activation function\n",
    "def sigmoid(Z):\n",
    "    return 1/(1+np.exp(-1*Z))"
   ]
  },
  {
   "cell_type": "code",
   "execution_count": 152,
   "metadata": {
    "executionInfo": {
     "elapsed": 2150,
     "status": "ok",
     "timestamp": 1618757024177,
     "user": {
      "displayName": "Sarvesh Khetan",
      "photoUrl": "https://lh3.googleusercontent.com/a-/AOh14GiYvgp8tsqLQjHL82OfSEL-YYRULs9eO8SLPw2rDg=s64",
      "userId": "17514303311129929608"
     },
     "user_tz": -330
    },
    "id": "d65cLYk0K3me"
   },
   "outputs": [],
   "source": [
    "def sigmoid_derivative(Z):\n",
    "    return sigmoid(Z)*(1-sigmoid(Z))"
   ]
  },
  {
   "cell_type": "code",
   "execution_count": 155,
   "metadata": {
    "executionInfo": {
     "elapsed": 2143,
     "status": "ok",
     "timestamp": 1618757024178,
     "user": {
      "displayName": "Sarvesh Khetan",
      "photoUrl": "https://lh3.googleusercontent.com/a-/AOh14GiYvgp8tsqLQjHL82OfSEL-YYRULs9eO8SLPw2rDg=s64",
      "userId": "17514303311129929608"
     },
     "user_tz": -330
    },
    "id": "DDecOkkQWwJR"
   },
   "outputs": [],
   "source": [
    "#training algo using stochastic gradient\n",
    "def stochastic_GD_single(X,Y,learning_rate,epochs,hidden_units):\n",
    "    y_org = Y\n",
    "    \n",
    "    #one hot encoding\n",
    "    one_hot_Y = np.zeros((Y.size,Y.max()+1))\n",
    "    one_hot_Y[np.arange(Y.size),Y]=1\n",
    "    Y = one_hot_Y[:,1:]\n",
    "    #random weight initialization\n",
    "    # 6 input units\n",
    "    W1 = np.random.randn(hidden_units,6) \n",
    "    b1 = np.random.randn(1,hidden_units)\n",
    "    # 10 output units\n",
    "    W = np.random.randn(10,hidden_units) \n",
    "    b = np.random.randn(1,10) \n",
    "\n",
    "    error_50iteration = list()\n",
    "    accuracy_50iteration = list()\n",
    "\n",
    "    for i in range(epochs):\n",
    "    #generate a random point\n",
    "        Xp = list()\n",
    "        Yp = list()\n",
    "        random_n = random.randint(0,X.shape[0]-1)\n",
    "        Xp.append(X[random_n])\n",
    "        Yp.append(Y[random_n])\n",
    "        #convert into numpy array\n",
    "        #Xp -> [1,6]\n",
    "        Xp = np.array(Xp)\n",
    "        #Yp -> [1,10]\n",
    "        Yp = np.array(Yp)\n",
    "\n",
    "        #forward propogation\n",
    "        #affine transformation of base features\n",
    "        Z1 = Xp.dot(W1.T) + b1 \n",
    "        #activation function\n",
    "        A1 = sigmoid(Z1) \n",
    "        Z2 = A1.dot(W.T) + b \n",
    "        A2 = sigmoid(Z2) \n",
    "\n",
    "        #backward propagation\n",
    "        #db -> [1,10]\n",
    "        db = (-1)*(Yp/A2)*(sigmoid_derivative(Z2)) + ((1-Yp)/(1-A2))*(sigmoid_derivative(Z2)) \n",
    "        #dW -> [10,8]\n",
    "        dW = db.T.dot(A1)\n",
    "        #db1 -> [1,8]\n",
    "        db1 = (db.dot(W))*sigmoid_derivative(Z1)\n",
    "        #dw1 -> [8,6]\n",
    "        dW1 = (db1.T).dot(Xp)\n",
    "\n",
    "        #updating weights\n",
    "        W1 = W1 - (learning_rate)*(dW1)\n",
    "        b1 = b1 - (learning_rate)*(db1)\n",
    "        W = W - (learning_rate)*(dW)\n",
    "        b = b - (learning_rate)*(db)\n",
    "\n",
    "        #error and accuracy every 50 interval\n",
    "        #calculating error\n",
    "        error = (-1*Yp).dot(np.log(A2.T)) - (1-Yp).dot(np.log(1-A2.T))\n",
    "\n",
    "        #calculating accuracy\n",
    "        pred_one_hot_Y = sigmoid(((sigmoid((X.dot(W1.T)) + b1)).dot(W.T)) + b)\n",
    "        y_pred = list()\n",
    "        for row in range(pred_one_hot_Y.shape[0]):\n",
    "            threshold = 0\n",
    "            highest_column = 0\n",
    "            for column in range(pred_one_hot_Y.shape[1]):\n",
    "                if(pred_one_hot_Y[row][column] > threshold):\n",
    "                    threshold = pred_one_hot_Y[row][column]\n",
    "                    highest_column = column\n",
    "            y_pred.append(highest_column + 1)\n",
    "        correct = 0\n",
    "        for k in range(len(y_org)):\n",
    "            if y_org[k] == y_pred[k]:\n",
    "                correct = correct + 1\n",
    "        accuracy = correct / len(y_org)\n",
    "\n",
    "        if(i%50 == 0):\n",
    "            error_50iteration.append(error)\n",
    "            accuracy_50iteration.append(accuracy)\n",
    "\n",
    "    return W1,b1,W,b,error_50iteration,accuracy_50iteration,y_pred\n"
   ]
  },
  {
   "cell_type": "code",
   "execution_count": 156,
   "metadata": {},
   "outputs": [],
   "source": [
    "alpha = [0.5, 0.1, 0.01]"
   ]
  },
  {
   "cell_type": "code",
   "execution_count": 157,
   "metadata": {
    "scrolled": false
   },
   "outputs": [
    {
     "name": "stdout",
     "output_type": "stream",
     "text": [
      "For learning rate = 0.5\n",
      "Output Layer Weights :\n",
      " [[-5.68849461  1.20765057 -4.31684229 -1.9754363  -0.75962152  8.12817657\n",
      "   3.49492029 -7.16362995]\n",
      " [-3.61709885  7.45195065 -0.1821855   4.08923143 -0.7918454  -6.96478552\n",
      "  -1.4044239  -5.08817496]\n",
      " [ 1.36338416 -2.76309877 -5.31002919 -1.80513877 -0.18234404  0.72557266\n",
      "  -2.48442492 -1.85649246]\n",
      " [-1.07050536 -6.91445541 -0.14507275 -1.52008218 -0.66289792 -3.95387241\n",
      "  -2.25489697  1.79117067]\n",
      " [-3.19284722 -3.21632291  1.64362805  4.35101431 -2.87691709 -4.52514385\n",
      "  -4.96113655 -0.93277839]\n",
      " [ 2.1202107  -3.70936364  2.75288775 -1.98558471  1.02368749 -0.42856406\n",
      "  -3.34250933 -3.83634642]\n",
      " [-3.46883498 -0.4118747  -4.88435536 -2.26043854 -3.34378332 -0.17487822\n",
      "  -1.02955965  4.70031855]\n",
      " [ 0.77210591 -7.14736539 -4.58949196  2.09292247 -0.43205724 -3.8734865\n",
      "   4.61128937 -0.81309446]\n",
      " [-4.84684442  1.18226436  1.68301367 -1.48233714  8.94700404  0.69325891\n",
      "   0.92020302  2.66968937]\n",
      " [ 0.141278    0.90449957 -2.56472458 -2.87862324 -3.84643801 -1.24954613\n",
      "  -1.32181931  3.17000983]] \n",
      "Output Layer Bias :\n",
      " [[-6.571907   -7.25937203 -1.17812114  0.47519398 -3.07090041 -2.35202326\n",
      "  -3.23310968 -3.83119817 -7.03959462 -4.40894169]] \n",
      "Hidden Layer Weights :\n",
      " [[ -0.25228916  -1.24445256  -3.75241044   4.12212935  -0.58395324\n",
      "    0.90263668]\n",
      " [  1.63717107  -6.38085496   6.68230964  -1.92337014 -10.24063852\n",
      "   -3.08140435]\n",
      " [  1.70766641   0.28933519   3.00407416  -5.23078922  -5.35009428\n",
      "   13.37121253]\n",
      " [ -7.96747942   5.75015559  -1.65228509  -7.26889463   1.31211119\n",
      "   -6.83062574]\n",
      " [  4.82532305  -2.7916812    1.61424079   2.15911936   1.39254085\n",
      "    1.81939979]\n",
      " [  3.35453635  -7.06951951  -3.53497255   4.8791619   -2.29684675\n",
      "    3.79941383]\n",
      " [ -1.37051007  -1.30596992   0.2409308    4.2101154    5.62684719\n",
      "  -14.4772677 ]\n",
      " [  5.26625187  -0.48169201   7.46326718  -0.44430782   3.02211006\n",
      "   -2.75903149]] \n",
      "Hidden Layer Bias :\n",
      " [[-6.89474526 -2.89513439 -5.09062425 -3.12852595 -8.89409369 -5.39738964\n",
      "  -3.92082764 -3.10606461]] \n",
      "Error Every 50 Iterations : [1.00110800e+01 4.99139582e+00 1.27741251e+00 2.71036176e+00\n",
      " 3.87658218e+00 4.02548635e+00 1.06322494e+00 2.41146085e+00\n",
      " 3.91097872e+00 3.25651560e+00 2.23870734e+00 3.64064436e+00\n",
      " 2.15565849e+00 8.19265123e-01 2.22220330e+00 1.69164632e-01\n",
      " 3.04611704e-01 2.82579833e+00 8.29060670e-02 1.61659068e+00\n",
      " 9.57510674e-02 2.53311459e+00 9.44795210e-02 9.29863677e-01\n",
      " 4.32760042e+00 4.11255782e+00 1.61447208e+00 2.05828762e+00\n",
      " 7.98510869e-02 6.27298592e-01 1.28910737e+00 5.42644814e-01\n",
      " 1.50134405e+00 2.02685339e+00 2.42391823e+00 4.66518135e-01\n",
      " 3.79568577e+00 5.00123505e-01 1.11185660e+00 3.59305268e-02\n",
      " 1.71507426e+00 1.36391583e-01 1.93395519e+00 6.32801504e-02\n",
      " 3.50740514e-02 6.13182385e-02 3.14476118e-01 1.37376469e+00\n",
      " 1.00983420e+00 4.19593687e-01 3.65292863e-02 6.38966087e-02\n",
      " 4.31780753e+00 1.65956582e-02 1.10828553e-01 1.91794511e+00\n",
      " 1.02326766e+00 4.38457339e-02 2.02054618e+00 2.71019198e+00\n",
      " 2.21188947e+00 6.21069342e-01 1.10881528e+00 2.87076061e+00\n",
      " 3.97271143e-02 5.34054577e+00 2.98934508e-01 4.08519926e-01\n",
      " 1.60244325e+00 1.63334671e-02 1.72047066e+00 1.01456780e-01\n",
      " 9.84279198e-01 6.51585023e-01 3.69566992e-01 2.37093269e+00\n",
      " 4.30312874e-01 3.70884332e+00 1.90844569e+00 2.43171474e+00\n",
      " 2.05473901e+00 2.31073375e+00 1.47283575e-01 5.02292738e-01\n",
      " 1.65620765e+00 1.57685731e+00 2.62332378e-02 1.04080644e+00\n",
      " 1.20256673e+00 2.53047293e-02 1.15543296e+00 1.30827441e+00\n",
      " 1.10384599e+00 6.02293711e-02 1.46559382e+00 1.70943023e-02\n",
      " 5.38049981e-02 5.25854560e-01 2.50416585e-01 4.47820711e-02\n",
      " 7.40602863e-01 5.50109055e-01 4.50873183e-01 8.03950657e-01\n",
      " 8.28362846e-01 1.16961000e+00 2.06562600e+00 4.72647782e-02\n",
      " 6.72670316e-01 5.85377531e-02 9.31369103e-02 1.94056897e-02\n",
      " 7.16199980e-01 3.00732942e+00 1.18024299e+00 6.52305637e-02\n",
      " 2.44279455e-01 1.96279817e+00 4.60935465e-02 3.62301288e-02\n",
      " 1.47490804e+00 8.38558236e-02 4.62857133e+00 3.88988295e-02\n",
      " 8.40935360e-01 3.50889626e+00 2.83951209e+00 2.60046519e+00\n",
      " 1.81604288e+00 3.02277149e+00 1.12698960e+00 9.36122762e-01\n",
      " 2.92338083e+00 8.14115313e-01 5.82907086e-01 2.53909472e-01\n",
      " 3.81792784e+00 8.33979863e-02 1.03770846e+00 1.24797860e+00\n",
      " 9.86415029e-01 4.72370061e+00 8.92599952e-03 2.11873620e-01\n",
      " 1.56558592e+00 1.86208941e+00 1.05919015e+00 3.52995161e-01\n",
      " 1.95932200e+00 2.77548742e+00 1.39913435e-02 2.34880774e+00\n",
      " 3.45090288e-01 1.74564031e+00 1.98119968e+00 8.32826154e-02\n",
      " 3.58971910e+00 5.88911149e+00 4.14919464e-01 2.71359106e+00\n",
      " 9.88921742e-01 8.50222090e-01 3.52311918e+00 3.13670399e-01\n",
      " 3.55925602e-01 2.08247782e+00 5.81192446e+00 5.74840488e-02\n",
      " 2.18751711e+00 7.20814643e-01 6.22484691e-02 3.80742137e-02\n",
      " 1.40947013e+00 3.25580515e+00 2.54495236e+00 5.73218318e-01\n",
      " 7.24139409e-03 1.10632717e+00 1.51170993e+00 3.06871097e-01\n",
      " 4.11188306e-02 5.77157048e-02 3.92672778e-02 4.63486944e-01\n",
      " 2.04322137e+00 1.52817324e+00 2.22384011e-02 7.00646690e+00\n",
      " 1.01601811e+00 9.09108046e-01 3.12020500e+00 5.83369431e+00\n",
      " 8.69432526e-02 3.86446017e+00 2.76414024e-02 1.14218463e+00\n",
      " 2.82762683e+00 1.99324047e-02 1.46619800e+00 4.55300562e+00]\n"
     ]
    },
    {
     "data": {
      "text/plain": [
       "<Figure size 432x288 with 0 Axes>"
      ]
     },
     "execution_count": 157,
     "metadata": {},
     "output_type": "execute_result"
    },
    {
     "data": {
      "text/plain": [
       "Text(0.5, 0, 'Iterations')"
      ]
     },
     "execution_count": 157,
     "metadata": {},
     "output_type": "execute_result"
    },
    {
     "data": {
      "text/plain": [
       "Text(0, 0.5, 'Error')"
      ]
     },
     "execution_count": 157,
     "metadata": {},
     "output_type": "execute_result"
    },
    {
     "data": {
      "text/plain": [
       "Text(0.5, 1.0, 'Error vs Iterations')"
      ]
     },
     "execution_count": 157,
     "metadata": {},
     "output_type": "execute_result"
    },
    {
     "data": {
      "text/plain": [
       "[<matplotlib.lines.Line2D at 0x11fca65d0>]"
      ]
     },
     "execution_count": 157,
     "metadata": {},
     "output_type": "execute_result"
    },
    {
     "data": {
      "image/png": "[encoded data removed]",
      "text/plain": [
       "<Figure size 432x288 with 1 Axes>"
      ]
     },
     "metadata": {
      "needs_background": "light"
     },
     "output_type": "display_data"
    },
    {
     "name": "stdout",
     "output_type": "stream",
     "text": [
      "Accuracy Every 50 Iterations : [0.16       0.20142857 0.40785714 0.53       0.61571429 0.51\n",
      " 0.57428571 0.62142857 0.57071429 0.61928571 0.62928571 0.59\n",
      " 0.64857143 0.65642857 0.655      0.63642857 0.53285714 0.64357143\n",
      " 0.60571429 0.60642857 0.62142857 0.67857143 0.63785714 0.65642857\n",
      " 0.68       0.68214286 0.67071429 0.64214286 0.62571429 0.62285714\n",
      " 0.67785714 0.65       0.66857143 0.63285714 0.67357143 0.68928571\n",
      " 0.67428571 0.625      0.65785714 0.68357143 0.62714286 0.66714286\n",
      " 0.67214286 0.69       0.65142857 0.66214286 0.64928571 0.63142857\n",
      " 0.63214286 0.68642857 0.69785714 0.675      0.63428571 0.68714286\n",
      " 0.63071429 0.63714286 0.69071429 0.67071429 0.66857143 0.70142857\n",
      " 0.52071429 0.68214286 0.70142857 0.69857143 0.66785714 0.68642857\n",
      " 0.70285714 0.68071429 0.67214286 0.60142857 0.66714286 0.67071429\n",
      " 0.69285714 0.69571429 0.68142857 0.67928571 0.66214286 0.67857143\n",
      " 0.69357143 0.62071429 0.69642857 0.68857143 0.64285714 0.67857143\n",
      " 0.65857143 0.65928571 0.68357143 0.70214286 0.70857143 0.63285714\n",
      " 0.66142857 0.62785714 0.69142857 0.66714286 0.68214286 0.69357143\n",
      " 0.66642857 0.71       0.71714286 0.66857143 0.66357143 0.705\n",
      " 0.68928571 0.64357143 0.66642857 0.70071429 0.67642857 0.69357143\n",
      " 0.65571429 0.65142857 0.69714286 0.71142857 0.70071429 0.63571429\n",
      " 0.69785714 0.72142857 0.62285714 0.71857143 0.69071429 0.69571429\n",
      " 0.70928571 0.68571429 0.66785714 0.69       0.70857143 0.70142857\n",
      " 0.68714286 0.68714286 0.69928571 0.65357143 0.71785714 0.68\n",
      " 0.70428571 0.69714286 0.70714286 0.70214286 0.70785714 0.695\n",
      " 0.695      0.60571429 0.67785714 0.705      0.67071429 0.72\n",
      " 0.71714286 0.71214286 0.68428571 0.63571429 0.66428571 0.66571429\n",
      " 0.63857143 0.66785714 0.69071429 0.67285714 0.70142857 0.70428571\n",
      " 0.655      0.68428571 0.70428571 0.68071429 0.69714286 0.64428571\n",
      " 0.69928571 0.72928571 0.65928571 0.70571429 0.72285714 0.71\n",
      " 0.715      0.66142857 0.715      0.71357143 0.72571429 0.71428571\n",
      " 0.66428571 0.68785714 0.71       0.70214286 0.715      0.66857143\n",
      " 0.70142857 0.71357143 0.72857143 0.65571429 0.65714286 0.70285714\n",
      " 0.655      0.69428571 0.70428571 0.715      0.72142857 0.70785714\n",
      " 0.72714286 0.65785714 0.70714286 0.70571429 0.71714286 0.73071429\n",
      " 0.71285714 0.72785714]\n"
     ]
    },
    {
     "data": {
      "text/plain": [
       "<Figure size 432x288 with 0 Axes>"
      ]
     },
     "execution_count": 157,
     "metadata": {},
     "output_type": "execute_result"
    },
    {
     "data": {
      "text/plain": [
       "Text(0.5, 0, 'Iterations')"
      ]
     },
     "execution_count": 157,
     "metadata": {},
     "output_type": "execute_result"
    },
    {
     "data": {
      "text/plain": [
       "Text(0, 0.5, 'Accuracy')"
      ]
     },
     "execution_count": 157,
     "metadata": {},
     "output_type": "execute_result"
    },
    {
     "data": {
      "text/plain": [
       "Text(0.5, 1.0, 'Accuracy vs Iterations')"
      ]
     },
     "execution_count": 157,
     "metadata": {},
     "output_type": "execute_result"
    },
    {
     "data": {
      "text/plain": [
       "[<matplotlib.lines.Line2D at 0x11d747c10>]"
      ]
     },
     "execution_count": 157,
     "metadata": {},
     "output_type": "execute_result"
    },
    {
     "data": {
      "image/png": "[encoded data removed]",
      "text/plain": [
       "<Figure size 432x288 with 1 Axes>"
      ]
     },
     "metadata": {
      "needs_background": "light"
     },
     "output_type": "display_data"
    },
    {
     "name": "stdout",
     "output_type": "stream",
     "text": [
      "Loss After completing training : 4.55300561965364\n",
      "Accuracy After completing training : 0.7278571428571429\n",
      "\n",
      "Loss After completing testing : [[0.16028536]]\n",
      "Accuracy After completing testing : 0.71\n",
      "For learning rate = 0.1\n",
      "Output Layer Weights :\n",
      " [[-3.69645928  1.05799981 -5.53865748  3.25725116 -2.78489012  4.39688554\n",
      "   0.67334449  1.32404998]\n",
      " [-5.49500465  4.95159839  3.32457711  0.78119824 -1.08746094 -2.31448984\n",
      "   0.65585221 -4.23264624]\n",
      " [-0.54316592 -1.85368522 -0.59006598  2.77540223  0.29467213 -2.05900781\n",
      "  -3.49002121  3.07586289]\n",
      " [-0.26288332 -3.61253054  3.40867805 -1.84334503  0.21924118 -0.97638849\n",
      "  -2.30936157 -0.10068404]\n",
      " [ 0.42363293 -4.66456456  1.53563978 -0.86623246 -0.96206849 -0.92485834\n",
      "   3.74349455 -3.01461691]\n",
      " [ 1.28416447 -2.92306109 -0.73095596  0.94255979 -3.5183705  -0.58444408\n",
      "  -3.37491217 -3.56530763]\n",
      " [-1.02670206  2.33085361 -2.91305027 -3.96319516 -2.25677963 -3.47590226\n",
      "   0.02672149 -0.107963  ]\n",
      " [-4.88777824 -5.1580775   0.74054195  0.91502313 -0.58974423 -2.53097118\n",
      "   2.23637005  2.7505788 ]\n",
      " [-1.0073708  -0.72926215 -3.09211376 -2.39010457  4.32094786  3.9836633\n",
      "  -4.32155322 -1.53449944]\n",
      " [-1.13447092  1.18492227 -2.891346   -3.79263699 -2.42532564 -2.8976106\n",
      "   1.48907491 -0.55517797]] \n",
      "Output Layer Bias :\n",
      " [[-4.86651075 -4.16100881 -3.4994106  -1.64228588 -2.86570262 -0.236474\n",
      "  -0.57858948 -3.55298994 -1.08255047 -0.29229179]] \n",
      "Hidden Layer Weights :\n",
      " [[ 8.38472651e-01 -1.04130447e+00  5.57572898e-01 -1.80688912e+00\n",
      "  -4.29175648e-01  4.30046439e+00]\n",
      " [ 1.19151303e+00 -2.81849270e+00  1.96667768e+00 -7.81645991e-01\n",
      "  -5.33559011e+00 -1.96323663e+00]\n",
      " [-3.69740633e+00  4.03464479e+00  2.60626153e-01 -1.80379341e+00\n",
      "   2.19890491e-01 -2.12387077e+00]\n",
      " [-2.98573755e+00  5.56442089e-01 -5.05034437e+00  1.75783706e+00\n",
      "  -1.75344060e+00 -2.78375626e-01]\n",
      " [ 7.49175312e-01  7.81629044e-01  2.59182316e+00 -4.68703021e-01\n",
      "   1.27661081e-03 -3.45369304e-01]\n",
      " [ 1.91744663e+00 -2.72624028e+00 -1.12444809e+00 -4.76348784e-01\n",
      "  -1.04711994e+00  6.51772364e-01]\n",
      " [-2.41965512e+00  2.08953941e+00 -8.14784026e-01 -3.61137360e+00\n",
      "   7.26588289e-01 -3.10119037e+00]\n",
      " [-6.59129019e-02 -4.03270883e-01 -5.51102046e-01  2.28329998e+00\n",
      "   3.39970972e+00 -4.93949644e+00]] \n",
      "Hidden Layer Bias :\n",
      " [[ 0.58518038  0.77282411 -0.7956553   0.5092036  -3.23501692 -5.05782349\n",
      "   0.601882    0.27386356]] \n",
      "Error Every 50 Iterations : [12.61325253  4.28020567  2.82097134  2.32810778  2.70974778  1.68022369\n",
      "  1.55914427  1.36597843  2.0733679   1.54402593  1.02471403  1.1828633\n",
      "  2.65835209  0.5208924   3.48283591  2.9765872   2.31762784  6.0578255\n",
      "  3.74225193  0.92971144  1.05464841  2.1487033   1.28591734  1.89260504\n",
      "  0.88355618  0.62771133  1.37528295  0.34378953  5.04798356  1.73618809\n",
      "  1.32007735  1.8352572   2.02129338  1.56255508  1.48515795  1.60850137\n",
      "  0.3540153   2.89020247  0.41623909  1.30678151  1.91632141  0.52981046\n",
      "  0.35247872  0.70940018  1.63385509  1.67149852  0.92751684  3.85328229\n",
      "  0.77859293  2.97317781  0.72171042  0.25839691  1.30087283  1.98599555\n",
      "  1.76049895  0.29771425  3.07714513  1.8271739   0.82443136  1.47455967\n",
      "  1.7813935   2.13251026  2.3813792   0.84992773  3.51515323  0.80798096\n",
      "  0.165731    0.14691564  1.82210053  1.19912214  0.11052552  0.48658324\n",
      "  2.33505788  4.38623531  0.70564764  0.21428093  0.96724941  1.33768463\n",
      "  1.30437763  0.80384817  0.11643792  4.34446182  0.90115077  0.08935676\n",
      "  0.10821979  0.1210277   0.63529818  1.57454659  1.9266135   0.8185817\n",
      "  3.03053783  1.4883246   0.6448304   3.63641093  2.92498656  0.08361333\n",
      "  0.91321123  0.08011817  0.12261751  1.63680751  0.7019843   0.72522447\n",
      "  2.5960964   2.579095    1.06875784  0.08268253  1.84617012  0.70545626\n",
      "  1.10797195  0.71173078  2.49508106  1.53871344  0.92185666  0.63204435\n",
      "  0.0771513   2.01876382  1.57885187  0.08641241  3.73164311  0.07035594\n",
      "  0.0781846   1.10551052  1.02621098  1.01330725  1.54696275  0.87037698\n",
      "  0.14809399  0.88334761  2.43679861  1.53481022  1.1832812   1.13890885\n",
      "  0.05172758  0.06002705  1.21226921  0.96183732  1.69127572  5.48215302\n",
      "  2.12872405  1.31248344  0.73094355  4.19817674  0.0481222   0.28318802\n",
      "  0.11236465  0.92525409  0.89591315  1.9478906   1.67136847  0.70719572\n",
      "  0.4396348   6.34408383  0.05368366  1.54004724  1.27829742  3.25421164\n",
      "  0.72132201  0.11502441  2.84200876  0.8204213   1.24603542  1.6881982\n",
      "  3.2522019   0.10609535  1.09972817  1.02708687  0.17036676  0.93352008\n",
      "  2.64496486  0.61533983  1.08283404  0.51598288  0.5260013   1.9482501\n",
      "  0.05193559  0.77593937  0.06866003  0.95536796  1.15066987  0.71227158\n",
      "  0.09125785  3.14316364  1.34502025  0.61677522  0.03977921  1.20493231\n",
      "  0.76410902  0.0471212   0.05889387  1.14282033  0.89350529  2.25809133\n",
      "  0.08819056  2.34907906  0.04471705  0.55327568  0.04008648  1.21769275\n",
      "  0.04649614  4.3249541 ]\n"
     ]
    },
    {
     "data": {
      "text/plain": [
       "<Figure size 432x288 with 0 Axes>"
      ]
     },
     "execution_count": 157,
     "metadata": {},
     "output_type": "execute_result"
    },
    {
     "data": {
      "text/plain": [
       "Text(0.5, 0, 'Iterations')"
      ]
     },
     "execution_count": 157,
     "metadata": {},
     "output_type": "execute_result"
    },
    {
     "data": {
      "text/plain": [
       "Text(0, 0.5, 'Error')"
      ]
     },
     "execution_count": 157,
     "metadata": {},
     "output_type": "execute_result"
    },
    {
     "data": {
      "text/plain": [
       "Text(0.5, 1.0, 'Error vs Iterations')"
      ]
     },
     "execution_count": 157,
     "metadata": {},
     "output_type": "execute_result"
    },
    {
     "data": {
      "text/plain": [
       "[<matplotlib.lines.Line2D at 0x11f93c790>]"
      ]
     },
     "execution_count": 157,
     "metadata": {},
     "output_type": "execute_result"
    },
    {
     "data": {
      "image/png": "[encoded data removed]",
      "text/plain": [
       "<Figure size 432x288 with 1 Axes>"
      ]
     },
     "metadata": {
      "needs_background": "light"
     },
     "output_type": "display_data"
    },
    {
     "name": "stdout",
     "output_type": "stream",
     "text": [
      "Accuracy Every 50 Iterations : [0.09857143 0.24285714 0.42071429 0.35785714 0.40714286 0.50071429\n",
      " 0.56428571 0.55214286 0.65857143 0.59214286 0.48785714 0.65357143\n",
      " 0.64428571 0.65785714 0.67       0.65785714 0.66571429 0.66928571\n",
      " 0.68357143 0.65785714 0.63928571 0.65928571 0.66071429 0.66714286\n",
      " 0.68714286 0.66428571 0.66071429 0.675      0.67071429 0.66\n",
      " 0.67928571 0.68214286 0.67357143 0.68428571 0.70357143 0.68857143\n",
      " 0.69214286 0.67857143 0.68571429 0.69142857 0.69071429 0.68285714\n",
      " 0.68642857 0.695      0.67857143 0.66928571 0.68785714 0.67714286\n",
      " 0.68714286 0.69714286 0.67928571 0.67571429 0.68285714 0.69285714\n",
      " 0.67714286 0.69357143 0.69357143 0.68214286 0.68142857 0.69285714\n",
      " 0.69285714 0.68785714 0.69357143 0.695      0.68785714 0.70857143\n",
      " 0.67       0.7        0.70142857 0.69857143 0.64571429 0.68214286\n",
      " 0.68285714 0.69357143 0.70571429 0.64857143 0.68071429 0.70642857\n",
      " 0.71       0.69       0.69428571 0.66714286 0.69357143 0.64071429\n",
      " 0.69285714 0.71285714 0.70357143 0.70214286 0.67928571 0.68642857\n",
      " 0.70142857 0.70142857 0.705      0.69785714 0.69142857 0.69428571\n",
      " 0.70142857 0.695      0.69214286 0.70285714 0.705      0.69714286\n",
      " 0.7        0.70357143 0.7        0.70285714 0.70428571 0.70285714\n",
      " 0.70071429 0.70214286 0.71642857 0.67642857 0.70714286 0.70142857\n",
      " 0.69785714 0.70142857 0.70142857 0.65428571 0.68428571 0.69928571\n",
      " 0.69142857 0.68785714 0.69285714 0.71142857 0.70642857 0.71285714\n",
      " 0.695      0.70142857 0.715      0.71857143 0.69357143 0.69142857\n",
      " 0.70428571 0.67857143 0.70785714 0.72571429 0.71714286 0.715\n",
      " 0.71       0.72071429 0.72285714 0.72285714 0.71785714 0.70785714\n",
      " 0.71642857 0.72357143 0.70857143 0.71       0.70214286 0.72285714\n",
      " 0.71285714 0.72571429 0.71571429 0.72785714 0.71928571 0.7\n",
      " 0.71928571 0.72071429 0.72357143 0.73571429 0.73071429 0.71571429\n",
      " 0.715      0.73785714 0.71071429 0.68857143 0.70142857 0.725\n",
      " 0.69857143 0.73214286 0.72785714 0.69571429 0.70714286 0.725\n",
      " 0.73428571 0.68428571 0.66071429 0.73214286 0.71785714 0.74285714\n",
      " 0.71714286 0.72928571 0.71857143 0.72857143 0.72571429 0.75142857\n",
      " 0.72857143 0.72357143 0.73071429 0.72928571 0.72       0.70571429\n",
      " 0.74428571 0.73285714 0.71785714 0.725      0.745      0.73071429\n",
      " 0.73571429 0.72785714]\n"
     ]
    },
    {
     "data": {
      "text/plain": [
       "<Figure size 432x288 with 0 Axes>"
      ]
     },
     "execution_count": 157,
     "metadata": {},
     "output_type": "execute_result"
    },
    {
     "data": {
      "text/plain": [
       "Text(0.5, 0, 'Iterations')"
      ]
     },
     "execution_count": 157,
     "metadata": {},
     "output_type": "execute_result"
    },
    {
     "data": {
      "text/plain": [
       "Text(0, 0.5, 'Accuracy')"
      ]
     },
     "execution_count": 157,
     "metadata": {},
     "output_type": "execute_result"
    },
    {
     "data": {
      "text/plain": [
       "Text(0.5, 1.0, 'Accuracy vs Iterations')"
      ]
     },
     "execution_count": 157,
     "metadata": {},
     "output_type": "execute_result"
    },
    {
     "data": {
      "text/plain": [
       "[<matplotlib.lines.Line2D at 0x11f439e10>]"
      ]
     },
     "execution_count": 157,
     "metadata": {},
     "output_type": "execute_result"
    },
    {
     "data": {
      "image/png": "[encoded data removed]",
      "text/plain": [
       "<Figure size 432x288 with 1 Axes>"
      ]
     },
     "metadata": {
      "needs_background": "light"
     },
     "output_type": "display_data"
    },
    {
     "name": "stdout",
     "output_type": "stream",
     "text": [
      "Loss After completing training : 4.324954099357725\n",
      "Accuracy After completing training : 0.7278571428571429\n",
      "\n",
      "Loss After completing testing : [[0.9012386]]\n",
      "Accuracy After completing testing : 0.73\n",
      "For learning rate = 0.01\n",
      "Output Layer Weights :\n",
      " [[ 1.59498217  1.83874926 -2.2421258  -0.26088687 -3.2001277   0.52049079\n",
      "   0.82761446 -1.76394761]\n",
      " [-1.94660738 -1.65580265 -1.50248648  0.94080094 -2.69931722 -0.6339254\n",
      "   0.55281268  0.83673298]\n",
      " [-0.41130339 -2.31906713  1.28382512 -0.83490465 -0.36963376  1.47627631\n",
      "  -1.10759598 -3.12745562]\n",
      " [-1.52747334 -1.98823892  1.54288908 -0.62964515  0.33937163 -0.53493011\n",
      "  -0.52425916  0.05538344]\n",
      " [-0.863304   -1.37875362 -0.71199485  1.34080363  0.15310454 -3.04942113\n",
      "   0.73320877  0.38259732]\n",
      " [ 0.0147356  -1.51999653  1.03546072 -1.77483716 -0.08375217 -1.4868104\n",
      "   1.60746464 -1.49187717]\n",
      " [ 0.25442185  1.06768257 -2.79435864 -0.59178761  1.20096389  0.84950167\n",
      "  -3.91696256 -1.93211989]\n",
      " [-1.63173262 -1.46232524 -1.36966767  1.49320374 -0.05533765  0.47792488\n",
      "  -0.29122918 -1.37679944]\n",
      " [ 1.43201718  0.71839026 -1.02805062 -2.16038432  1.55632992 -2.9054979\n",
      "  -2.42671938 -0.40662574]\n",
      " [ 0.39028272  0.72414073 -0.16785805 -1.49830664 -1.07784603  1.25939577\n",
      "  -2.49951328 -0.63015082]] \n",
      "Output Layer Bias :\n",
      " [[-1.7028895  -0.42890588 -0.65437533 -1.51085445 -1.33062723 -1.37173425\n",
      "   0.20021786 -1.06955715 -1.29957642 -1.01195468]] \n",
      "Hidden Layer Weights :\n",
      " [[-0.07670455 -3.25076602  1.16919454  1.48748692  0.07322828 -0.13111596]\n",
      " [ 2.06664821 -2.16822074  0.21620552  1.06589233 -1.51070603 -0.55638639]\n",
      " [ 1.71929298  0.76771213  0.47621826  1.63211581 -0.09959936  1.43894736]\n",
      " [-3.45553555  1.39585267 -1.18273451 -1.12388491 -1.65590724 -1.47224142]\n",
      " [ 1.05446058  0.07178734  0.87117216  1.29522509  0.81578041  1.51534082]\n",
      " [-0.15901148 -0.68220345 -3.16212338  1.056696   -0.58679763 -1.439369  ]\n",
      " [-1.46978654  0.71931129 -3.34585891  0.20793346 -0.73062139  0.79936302]\n",
      " [-1.11273868  0.22096455  1.79558336 -0.97496998 -0.97669451  0.10099311]] \n",
      "Hidden Layer Bias :\n",
      " [[ 0.02078414 -0.79635669  0.53860569 -0.37000129  2.08067563  1.79939373\n",
      "   0.84089919  0.61483615]] \n",
      "Error Every 50 Iterations : [15.38477974 10.77609587  8.40744687  5.99701931  5.74553126  3.21558611\n",
      "  3.15253279  3.31082656  3.36309968  2.36791182  2.75423355  2.50399887\n",
      "  2.55474012  2.3332646   3.22373124  3.48760452  4.18506101  2.4814907\n",
      "  3.07053229  2.53086863  2.53466363  3.4909954   2.35411239  3.04191532\n",
      "  1.84932163  2.34994111  2.79853157  3.56778876  2.37055439  2.51391502\n",
      "  2.79246008  2.05653239  2.49290908  2.16959922  2.72189891  2.13243342\n",
      "  3.06351992  3.81718845  1.78424622  2.08632668  2.44490944  2.34394934\n",
      "  2.80154514  2.25804505  2.23521781  2.17762264  2.01876264  3.45202759\n",
      "  2.35628269  2.41370484  2.53706824  2.55240462  1.35067262  2.54494306\n",
      "  2.276117    2.0222262   2.80573367  1.7057815   1.22170033  1.19327145\n",
      "  2.5899432   1.76407656  2.05651353  1.17532109  2.37856563  2.77122874\n",
      "  1.69535828  2.93311223  1.12497047  1.41083788  1.95099127  2.47607934\n",
      "  2.4844416   1.71837499  3.80644928  2.45595064  1.74070722  2.48406638\n",
      "  1.97443609  1.98643455  1.80952064  4.50018342  2.11227698  2.48236776\n",
      "  1.93610635  1.81306663  2.27006069  2.13654653  1.89668363  1.82539522\n",
      "  1.44429328  2.0129824   1.92223916  2.58139693  1.76009673  2.47230582\n",
      "  2.92310796  1.52921663  1.44122401  1.38285746  2.05639019  1.98642725\n",
      "  2.18644795  2.00275671  2.11721135  2.69785375  1.77469906  1.22841972\n",
      "  2.01230948  1.98871931  2.08878845  2.31637653  2.16447715  0.7594247\n",
      "  1.1969652   3.01647259  0.67495616  1.44499656  2.1811326   1.59781439\n",
      "  0.73260669  0.65991212  0.64766028  1.25499775  1.90056637  2.01578272\n",
      "  1.76327209  2.99746839  2.18554773  0.767893    0.68904693  0.76445334\n",
      "  1.99650686  1.93576772  2.05028407  1.60975013  2.00384656  1.48566594\n",
      "  3.24968146  2.48487959  1.66324658  1.14048973  1.85611703  0.65039205\n",
      "  0.63525374  1.58457629  1.80404019  2.11583524  2.38412494  4.91554091\n",
      "  1.50582861  0.70835385  3.22975542  3.8641482   2.55423913  2.24663106\n",
      "  2.05851226  2.56440711  3.38282414  1.30906736  1.97708144  2.24890294\n",
      "  2.05557891  1.70878856  2.31429408  3.31834681  1.52435498  2.79217893\n",
      "  2.19889801  1.6330133   1.41224142  1.71906755  1.56040617  1.6126629\n",
      "  2.31830148  1.51317457  1.7786933   1.64765143  1.42894505  0.52188668\n",
      "  0.81725515  1.95689578  1.62178623  0.51013207  0.90672752  2.70838617\n",
      "  1.66430766  1.91672546  0.88185612  1.33281429  1.22053812  1.0436608\n",
      "  1.73794667  1.98861022  0.52298296  1.56813556  0.85985105  1.36192774\n",
      "  1.06584485  1.75998846]\n"
     ]
    },
    {
     "data": {
      "text/plain": [
       "<Figure size 432x288 with 0 Axes>"
      ]
     },
     "execution_count": 157,
     "metadata": {},
     "output_type": "execute_result"
    },
    {
     "data": {
      "text/plain": [
       "Text(0.5, 0, 'Iterations')"
      ]
     },
     "execution_count": 157,
     "metadata": {},
     "output_type": "execute_result"
    },
    {
     "data": {
      "text/plain": [
       "Text(0, 0.5, 'Error')"
      ]
     },
     "execution_count": 157,
     "metadata": {},
     "output_type": "execute_result"
    },
    {
     "data": {
      "text/plain": [
       "Text(0.5, 1.0, 'Error vs Iterations')"
      ]
     },
     "execution_count": 157,
     "metadata": {},
     "output_type": "execute_result"
    },
    {
     "data": {
      "text/plain": [
       "[<matplotlib.lines.Line2D at 0x11fc834d0>]"
      ]
     },
     "execution_count": 157,
     "metadata": {},
     "output_type": "execute_result"
    },
    {
     "data": {
      "image/png": "[encoded data removed]",
      "text/plain": [
       "<Figure size 432x288 with 1 Axes>"
      ]
     },
     "metadata": {
      "needs_background": "light"
     },
     "output_type": "display_data"
    },
    {
     "name": "stdout",
     "output_type": "stream",
     "text": [
      "Accuracy Every 50 Iterations : [0.03       0.01357143 0.00785714 0.08571429 0.13285714 0.15142857\n",
      " 0.15071429 0.17357143 0.20428571 0.16142857 0.20928571 0.23785714\n",
      " 0.24785714 0.20071429 0.32071429 0.33357143 0.34785714 0.29785714\n",
      " 0.27357143 0.33928571 0.36857143 0.35428571 0.325      0.33928571\n",
      " 0.44785714 0.41571429 0.46428571 0.43785714 0.49       0.47071429\n",
      " 0.46857143 0.52071429 0.46785714 0.46857143 0.47357143 0.50857143\n",
      " 0.48428571 0.48571429 0.52571429 0.51928571 0.495      0.45\n",
      " 0.45642857 0.46785714 0.51285714 0.545      0.46285714 0.48357143\n",
      " 0.44428571 0.46928571 0.44214286 0.47357143 0.55857143 0.56785714\n",
      " 0.56285714 0.56714286 0.565      0.56071429 0.54928571 0.55928571\n",
      " 0.565      0.55714286 0.56285714 0.56642857 0.53928571 0.51357143\n",
      " 0.50857143 0.52857143 0.53428571 0.58071429 0.58928571 0.6\n",
      " 0.58714286 0.54928571 0.555      0.56928571 0.60642857 0.60142857\n",
      " 0.64357143 0.64357143 0.60928571 0.63714286 0.63714286 0.64285714\n",
      " 0.64428571 0.62928571 0.61       0.615      0.62214286 0.6\n",
      " 0.61285714 0.61642857 0.60857143 0.59       0.61071429 0.60071429\n",
      " 0.60857143 0.595      0.58928571 0.58642857 0.57357143 0.575\n",
      " 0.58714286 0.62       0.62428571 0.61571429 0.61714286 0.61857143\n",
      " 0.6        0.60642857 0.60214286 0.61071429 0.61357143 0.60428571\n",
      " 0.595      0.59571429 0.61642857 0.62142857 0.61357143 0.60571429\n",
      " 0.63428571 0.63714286 0.63571429 0.635      0.63071429 0.62714286\n",
      " 0.61928571 0.62357143 0.64285714 0.63928571 0.655      0.66142857\n",
      " 0.66571429 0.66285714 0.66285714 0.65       0.63785714 0.64357143\n",
      " 0.645      0.65928571 0.66642857 0.66642857 0.66928571 0.665\n",
      " 0.65714286 0.66285714 0.665      0.66642857 0.665      0.66928571\n",
      " 0.67357143 0.67142857 0.66571429 0.66785714 0.67142857 0.67071429\n",
      " 0.66714286 0.67428571 0.66642857 0.66571429 0.66       0.66714286\n",
      " 0.66357143 0.67357143 0.66357143 0.665      0.65785714 0.66571429\n",
      " 0.65785714 0.65642857 0.65785714 0.66142857 0.67214286 0.68285714\n",
      " 0.67857143 0.65928571 0.66142857 0.65428571 0.66571429 0.66928571\n",
      " 0.66714286 0.67571429 0.67642857 0.67357143 0.66142857 0.66428571\n",
      " 0.66428571 0.66642857 0.66785714 0.67214286 0.67714286 0.67071429\n",
      " 0.67214286 0.67714286 0.67214286 0.675      0.68       0.68142857\n",
      " 0.67928571 0.67428571]\n"
     ]
    },
    {
     "data": {
      "text/plain": [
       "<Figure size 432x288 with 0 Axes>"
      ]
     },
     "execution_count": 157,
     "metadata": {},
     "output_type": "execute_result"
    },
    {
     "data": {
      "text/plain": [
       "Text(0.5, 0, 'Iterations')"
      ]
     },
     "execution_count": 157,
     "metadata": {},
     "output_type": "execute_result"
    },
    {
     "data": {
      "text/plain": [
       "Text(0, 0.5, 'Accuracy')"
      ]
     },
     "execution_count": 157,
     "metadata": {},
     "output_type": "execute_result"
    },
    {
     "data": {
      "text/plain": [
       "Text(0.5, 1.0, 'Accuracy vs Iterations')"
      ]
     },
     "execution_count": 157,
     "metadata": {},
     "output_type": "execute_result"
    },
    {
     "data": {
      "text/plain": [
       "[<matplotlib.lines.Line2D at 0x120154e10>]"
      ]
     },
     "execution_count": 157,
     "metadata": {},
     "output_type": "execute_result"
    },
    {
     "data": {
      "image/png": "[encoded data removed]",
      "text/plain": [
       "<Figure size 432x288 with 1 Axes>"
      ]
     },
     "metadata": {
      "needs_background": "light"
     },
     "output_type": "display_data"
    },
    {
     "name": "stdout",
     "output_type": "stream",
     "text": [
      "Loss After completing training : 1.7599884641089159\n",
      "Accuracy After completing training : 0.6742857142857143\n",
      "\n",
      "Loss After completing testing : [[1.51134862]]\n",
      "Accuracy After completing testing : 0.6983333333333334\n"
     ]
    }
   ],
   "source": [
    "for i in alpha:\n",
    "    W1,b1,W,b,error_50iteration,accuracy_50iteration,y_trian_pred = stochastic_GD_single(x_train,y_train,i,10000,8)\n",
    "    \n",
    "    print(\"For learning rate = {}\".format(i))\n",
    "    \n",
    "    #Print learned weights\n",
    "    print(\"Output Layer Weights :\\n {} \".format(W))\n",
    "    print(\"Output Layer Bias :\\n {} \".format(b))\n",
    "    print(\"Hidden Layer Weights :\\n {} \".format(W1))\n",
    "    print(\"Hidden Layer Bias :\\n {} \".format(b1))\n",
    "    \n",
    "    #print and plot error every 50 iterations\n",
    "    error_50iteration = np.array(error_50iteration).reshape(len(error_50iteration))\n",
    "    print('Error Every 50 Iterations : {}'.format(error_50iteration))\n",
    "    iterations = [50*i for i in range(len(error_50iteration))]\n",
    "    plt.figure(1)\n",
    "    plt.xlabel(\"Iterations\")\n",
    "    plt.ylabel(\"Error\")\n",
    "    plt.title(\"Error vs Iterations\",fontsize = 20)\n",
    "    plt.plot(iterations,error_50iteration,color='red',linestyle=\"--\",marker='o')\n",
    "    plt.grid(True)\n",
    "    plt.show()\n",
    "    \n",
    "    # print and plot accuracy every 50 iterations\n",
    "    accuracy_50iteration = np.array(accuracy_50iteration).reshape(len(accuracy_50iteration))\n",
    "    print('Accuracy Every 50 Iterations : {}'.format(accuracy_50iteration))\n",
    "    plt.figure(2)\n",
    "    plt.xlabel(\"Iterations\")\n",
    "    plt.ylabel(\"Accuracy\")\n",
    "    plt.title(\"Accuracy vs Iterations\",fontsize = 20)\n",
    "    plt.plot(iterations,accuracy_50iteration,color='green',linestyle=\"--\",marker='o')\n",
    "    plt.grid(True)\n",
    "    plt.show()\n",
    "    \n",
    "    \n",
    "    #overall loss and accuracy\n",
    "    print(\"Loss After completing training : {}\".format(error_50iteration[-1]))\n",
    "    print(\"Accuracy After completing training : {}\".format(accuracy_50iteration[-1]))\n",
    "    print(\"\")\n",
    "\n",
    "    #testing\n",
    "    one_hot_y_test = np.zeros((y_test.size,y_test.max()+1))\n",
    "    one_hot_y_test[np.arange(y_test.size),y_test]=1\n",
    "    one_hot_y_test = one_hot_y_test[:,1:]\n",
    "\n",
    "    #print loss after testing\n",
    "    Xp = list()\n",
    "    Yp = list()\n",
    "    random_n = random.randint(0,x_test.shape[0]-1)\n",
    "    Xp.append(x_test[random_n])\n",
    "    Yp.append(one_hot_y_test[random_n])\n",
    "    Xp = np.array(Xp) \n",
    "    Yp = np.array(Yp)\n",
    "\n",
    "    #affine transformation\n",
    "    Z1 = Xp.dot(W1.T) + b1 \n",
    "    A1 = sigmoid(Z1) \n",
    "    Z2 = A1.dot(W.T) + b \n",
    "    A2 = sigmoid(Z2) \n",
    "    print(\"Loss After completing testing : {}\".format((-1*Yp).dot(np.log(A2.T)) - (1-Yp).dot(np.log(1-A2.T))))\n",
    "\n",
    "    #print loss after testing  \n",
    "    pred_one_hot_y_test = sigmoid(((sigmoid((x_test.dot(W1.T)) + b1)).dot(W.T)) + b)\n",
    "    y_test_pred = list()\n",
    "    for row in range(pred_one_hot_y_test.shape[0]):\n",
    "        threshold = 0\n",
    "        highest_column = 0\n",
    "        for column in range(pred_one_hot_y_test.shape[1]):\n",
    "            if(pred_one_hot_y_test[row][column] > threshold):\n",
    "                threshold = pred_one_hot_y_test[row][column]\n",
    "                highest_column = column\n",
    "        y_test_pred.append(highest_column + 1)\n",
    "\n",
    "    correct = 0\n",
    "    for n in range(len(y_test)):\n",
    "        if y_test_pred[n] == y_test[n]:\n",
    "            correct = correct + 1\n",
    "    accuracy_test = correct / len(y_test)\n",
    "\n",
    "    print(\"Accuracy After completing testing : {}\".format(accuracy_test))\n",
    "    \n",
    "    "
   ]
  },
  {
   "cell_type": "markdown",
   "metadata": {
    "id": "hRuOGhR4Vylu"
   },
   "source": [
    "## Two Hidden Layer Artificial Neural Network\n"
   ]
  },
  {
   "cell_type": "code",
   "execution_count": null,
   "metadata": {},
   "outputs": [],
   "source": [
    "def sftmx(z):\n",
    "    return np.exp(z) / np.sum(np.exp(z), axis=0)"
   ]
  },
  {
   "cell_type": "code",
   "execution_count": 158,
   "metadata": {
    "executionInfo": {
     "elapsed": 1824,
     "status": "ok",
     "timestamp": 1618757623993,
     "user": {
      "displayName": "Sarvesh Khetan",
      "photoUrl": "https://lh3.googleusercontent.com/a-/AOh14GiYvgp8tsqLQjHL82OfSEL-YYRULs9eO8SLPw2rDg=s64",
      "userId": "17514303311129929608"
     },
     "user_tz": -330
    },
    "id": "oV0ycWVuV_gV"
   },
   "outputs": [],
   "source": [
    "def stochastic_GD_double(X,Y,learning_rate,epochs,layer1_hidden_units=8 ,layer2_hidden_units=8):\n",
    "\n",
    "    y_org = Y\n",
    "\n",
    "    #one hot encoding\n",
    "    one_hot_Y = np.zeros((Y.size,Y.max()+1))\n",
    "    one_hot_Y[np.arange(Y.size),Y]=1\n",
    "    Y = one_hot_Y[:,1:]\n",
    "\n",
    "    #random weight initialization\n",
    "    #6 input units\n",
    "    W1 = np.random.randn(layer1_hidden_units,6) \n",
    "    b1 = np.random.randn(1,layer1_hidden_units)\n",
    "    W2 = np.random.randn(layer2_hidden_units,layer1_hidden_units)\n",
    "    b2 = np.random.randn(1,layer2_hidden_units)\n",
    "    #10 output units\n",
    "    W = np.random.randn(10,layer2_hidden_units) \n",
    "    b = np.random.randn(1,10) \n",
    "\n",
    "    error_every_50_iteration_list = list()\n",
    "    accuracy_every_50_iteration_list = list()\n",
    "\n",
    "    for i in range(epochs):\n",
    "     \n",
    "        Xp = list()\n",
    "        Yp = list()\n",
    "        random_no = random.randint(0,X.shape[0]-1)\n",
    "        Xp.append(X[random_no])\n",
    "        Yp.append(Y[random_no])\n",
    "        #converting list into numpy array \n",
    "        Xp = np.array(Xp) \n",
    "        Yp = np.array(Yp) \n",
    "\n",
    "        #forward propagation\n",
    "        #affine transformation\n",
    "        Z1 = Xp.dot(W1.T) + b1 \n",
    "        A1 = sigmoid(Z1) \n",
    "        Z2 = A1.dot(W2.T) + b2 \n",
    "        A2 = sigmoid(Z2)\n",
    "        Z3 = A2.dot(W.T) + b \n",
    "        A3 = sigmoid(Z3) \n",
    "\n",
    "        #backward propagation\n",
    "        db = (-1)*(Yp/A3)*(sigmoid_derivative(Z3)) + ((1-Yp)/(1-A3))*(sigmoid_derivative(Z3)) \n",
    "        dW = (db.T).dot(A2)\n",
    "        db2 = (db.dot(W))*sigmoid_derivative(Z2)\n",
    "        dW2 = (db2.T).dot(A1)\n",
    "        db1 = (db2.dot(W2))*sigmoid_derivative(Z1)\n",
    "        dW1 = (db1.T).dot(Xp)\n",
    "        \n",
    "        #update weights\n",
    "        W = W - (learning_rate)*(dW)\n",
    "        b = b - (learning_rate)*(db)\n",
    "        W2 = W2 - (learning_rate)*(dW2)\n",
    "        b2 = b2 - (learning_rate)*(db2)\n",
    "        W1 = W1 - (learning_rate)*(dW1)\n",
    "        b1 = b1 - (learning_rate)*(db1)\n",
    "\n",
    "        #error and accuracy every 50 interval\n",
    "        #calculate error\n",
    "        #cross entropy\n",
    "        error = (-1*Yp).dot(np.log(A3.T)) - (1-Yp).dot(np.log(1-A3.T))\n",
    "    \n",
    "        #calculate accuracy\n",
    "        pred_one_hot_Y = sigmoid((sigmoid((sigmoid(X.dot(W1.T) + b1)).dot(W2.T) + b2)).dot(W.T) + b)\n",
    "        y_pred = list()\n",
    "        for row in range(pred_one_hot_Y.shape[0]):\n",
    "            threshold = 0\n",
    "            highest_column = 0\n",
    "            for column in range(pred_one_hot_Y.shape[1]):\n",
    "                if(pred_one_hot_Y[row][column] > threshold):\n",
    "                    threshold = pred_one_hot_Y[row][column]\n",
    "                    highest_column = column\n",
    "            y_pred.append(highest_column + 1)\n",
    "        correct = 0\n",
    "        for k in range(len(y_org)):\n",
    "            if y_org[k] == y_pred[k]:\n",
    "                correct = correct + 1\n",
    "        accuracy = correct / len(y_org)\n",
    "    \n",
    "        if(i%50 == 0):\n",
    "            error_every_50_iteration_list.append(error)\n",
    "            accuracy_every_50_iteration_list.append(accuracy)\n",
    "\n",
    "    return W2,b2,W1,b1,W,b,error_every_50_iteration_list,accuracy_every_50_iteration_list,y_pred\n"
   ]
  },
  {
   "cell_type": "code",
   "execution_count": 159,
   "metadata": {},
   "outputs": [],
   "source": [
    "alpha = [0.5, 0.1, 0.01]"
   ]
  },
  {
   "cell_type": "code",
   "execution_count": 160,
   "metadata": {
    "scrolled": false
   },
   "outputs": [
    {
     "name": "stdout",
     "output_type": "stream",
     "text": [
      "For learning rate 0.5\n",
      "Output Layer Weights :\n",
      " [[-5.03398336 -3.79408164  5.36763345  5.092558   -2.52260705  2.10083573\n",
      "  -2.95551806 -6.40475723]\n",
      " [-0.8424258  -0.46941604 -5.07269122 -4.1036124  -3.86833108  5.50898476\n",
      "   1.41998605 -5.45530715]\n",
      " [-0.43649911 -3.14402039 -0.7610889  -2.47171889  1.19765633 -3.18884142\n",
      "  -4.14191093 -3.20706041]\n",
      " [ 1.50498773  0.60020186 -2.01769026 -4.65630718 -0.24672787 -4.31991812\n",
      "  -0.23054107 -2.29387952]\n",
      " [ 2.17114079 -1.45124642 -3.65557368 -4.70868015 -3.77238047 -1.4952333\n",
      "  -1.05728488 -1.68140801]\n",
      " [ 0.130945    1.97149545 -0.19144532 -4.64469264  2.87636904 -5.00603678\n",
      "  -3.25215976 -0.69506498]\n",
      " [-1.48370192 -4.24528236 -2.83995924  0.05584035 -2.45979677  1.87360426\n",
      "  -3.20492807  4.25920802]\n",
      " [-3.05625907 -2.48197454 -3.84352909 -3.1429589  -2.96004196 -6.27834631\n",
      "   2.27431533 -4.51316026]\n",
      " [-4.56151162  7.6663084   2.2166745   1.38362168 -3.49200898 -2.65921576\n",
      "  -3.14429289  2.52440115]\n",
      " [-2.82343679 -3.44319458 -2.7043856  -0.26230347 -0.53814036  0.45420735\n",
      "  -3.55675015  3.58817067]] \n",
      "Output Layer Bias : \n",
      " [[-5.17280022 -4.20823069 -1.69230071 -0.93379822 -1.85981992 -4.18245475\n",
      "  -2.88457626  0.27312947 -7.28498073 -4.42566102]] \n",
      "Hidden Layer2 Weights : \n",
      " [[-5.36872283  3.49529544 -2.03302435  2.54008968 -5.10630871  0.89023134\n",
      "  -0.44825996  1.46019668]\n",
      " [-1.31981334 -0.86751884  2.79651937  6.7285334  -1.99914513 -4.92666945\n",
      "  -6.48141217 -2.13632825]\n",
      " [ 3.26716136 -1.38496383  4.28146323  0.4174521   0.76164884 -6.4391074\n",
      "  -2.53245011 -4.18663061]\n",
      " [ 2.91371679 -5.04788846  1.79470522  0.67564559  1.84529956 -2.2254054\n",
      "  -0.59123724 -3.00282992]\n",
      " [ 0.04777035  4.03015211  4.59955132 -1.20734296 -5.25018677 -1.89855093\n",
      "  -4.56049134 -5.57491275]\n",
      " [-0.16756931 -7.21245578 -4.35434703 -3.54515289  0.95239856 -1.62060564\n",
      "   7.62370928  0.68963241]\n",
      " [ 0.35491088 -0.36201206 -5.30220346 -0.26358533  4.48916589 -3.58034679\n",
      "   0.83178889  5.15519815]\n",
      " [-4.98578029 -3.41512763  2.41788717 -0.75717929 -5.00599368  0.17808561\n",
      "   0.77139976 -3.12097337]] \n",
      "Hidden Layer2 Bias : \n",
      "[[-2.32110823 -0.84568056 -1.46399942 -0.54371644 -3.21077942 -2.60843685\n",
      "  -2.18387631 -0.90246946]] \n",
      "Hidden Layer1 Weights :\n",
      " [[-1.56299420e-03 -3.95768396e+00 -5.21902959e+00  2.88619104e+00\n",
      "   3.72252795e+00 -3.84270171e+00]\n",
      " [-3.97920244e+00  6.07999676e+00 -5.22250116e+00 -4.79294875e-01\n",
      "   7.56597340e+00  5.27755361e+00]\n",
      " [ 7.89423623e+00 -5.36678826e+00  1.19958308e+00  4.24341251e+00\n",
      "  -4.32434951e+00  8.47537117e+00]\n",
      " [ 3.55215658e+00 -5.43327463e-02  6.95745959e+00 -1.24745204e-01\n",
      "   1.58276300e+00  1.75791151e+00]\n",
      " [-2.95569109e+00  1.27979688e-01  4.58893297e-01  4.01441666e+00\n",
      "   2.55965239e+00 -1.13362584e+01]\n",
      " [-1.10209749e+00  3.42036777e+00 -1.26091700e+00  1.00654723e+00\n",
      "   1.92289818e+00  2.08574207e+00]\n",
      " [ 5.30791860e+00 -4.07166136e+00  5.23027090e+00 -5.89991777e+00\n",
      "  -8.83509203e+00 -3.11889873e+00]\n",
      " [-5.67080151e+00  5.95614793e+00  2.49675414e+00 -4.48455018e+00\n",
      "   3.26216852e+00 -6.65981230e+00]] \n",
      "Hidden Layer1 Bias : \n",
      "[[-5.07396959 -6.06887427  1.59205912 -6.56409532 -3.11553943  7.77700334\n",
      "  -0.91120135 -3.42994869]] \n",
      "Error Every 50 Iterations : [8.52213117e+00 3.25568316e+00 1.71134333e+00 1.27634692e+00\n",
      " 2.77842411e+00 2.96569545e+00 3.72694665e+00 5.50773741e-01\n",
      " 4.61714218e-01 2.48312797e+00 1.64853633e+00 1.00804093e+00\n",
      " 2.20326703e+00 5.13701581e-01 1.14828976e-01 2.96274695e+00\n",
      " 2.73906257e+00 3.00494083e-01 1.35350095e+00 3.25350271e+00\n",
      " 3.44011204e+00 4.83056068e+00 1.69952208e-01 2.05416218e+00\n",
      " 9.68557871e-02 2.70277122e+00 4.38636467e-01 1.94368164e+00\n",
      " 5.59787611e+00 6.52475500e-02 1.51524285e+00 4.78549076e-02\n",
      " 5.12703207e-02 5.75934312e-02 9.97792723e-01 2.17168754e+00\n",
      " 1.45345062e-01 5.61904101e-02 1.52153636e+00 8.26000463e-01\n",
      " 4.18073650e+00 1.81934784e+00 1.34716454e+00 1.33161863e+00\n",
      " 3.88964808e+00 7.00133332e-01 1.80604015e+00 7.83181112e-01\n",
      " 6.82246148e+00 2.94195077e+00 1.28329782e+00 3.04218180e+00\n",
      " 1.02728905e+00 3.84603968e-02 3.69112097e+00 2.45870902e+00\n",
      " 9.04375576e-01 5.85273405e-01 2.55667003e-01 3.12333177e-01\n",
      " 1.15661681e+00 3.55338187e+00 5.33363003e-01 1.30935166e+00\n",
      " 3.77219903e+00 3.94991685e+00 3.12174187e+00 8.35559933e-01\n",
      " 6.80325945e-01 2.98139662e-02 1.91881356e+00 4.69249532e-01\n",
      " 3.43413549e-02 3.35451761e-02 4.82117917e+00 2.33009414e+00\n",
      " 8.70328366e-01 5.40704964e-01 8.79025386e-01 9.43766326e-02\n",
      " 8.58987500e-02 4.75760773e-01 1.57194850e+00 9.33616287e-01\n",
      " 3.83174339e+00 1.08842962e+00 6.09800430e-02 7.30768606e-02\n",
      " 1.80928313e+00 2.04583674e+00 3.51484511e+00 2.10222962e-02\n",
      " 5.68131510e-01 1.44261177e-01 1.30810366e+00 1.10848215e-02\n",
      " 1.80967005e-01 1.79645600e+00 1.96594994e+00 2.71583425e+00\n",
      " 3.12872965e-02 3.74093764e-02 2.69572536e+00 3.94288180e+00\n",
      " 1.06258495e+00 4.90315828e-01 2.31066952e-02 2.52047815e-02\n",
      " 1.41440381e-02 1.18724659e+00 9.26860063e-01 1.14973654e+00\n",
      " 1.08640017e+00 1.02431529e+00 7.58340633e-02 9.03352783e-02\n",
      " 3.40075308e+00 1.28741486e+00 9.56102373e-01 7.99917312e-01\n",
      " 1.08032143e+00 1.56436448e+00 1.67319909e-02 4.51602590e-02\n",
      " 1.77134191e+00 1.04993627e+00 2.16349375e-02 5.96676413e+00\n",
      " 2.31463242e+00 8.10466171e-02 2.12665629e-02 1.66098766e+00\n",
      " 1.50234467e+00 1.19811280e-01 2.44934652e+00 1.07806138e-02\n",
      " 6.68090726e-03 4.32435434e-02 7.42213690e-02 1.84194122e+00\n",
      " 5.48483304e-01 7.42488130e-02 5.21044737e-01 3.88981518e-01\n",
      " 1.30576684e+00 6.94589524e-02 3.83953860e+00 1.00666994e+00\n",
      " 2.56258256e+00 3.73055726e-01 4.61644624e-02 1.33625018e+00\n",
      " 4.19673944e+00 1.39242980e+00 3.04348743e+00 2.19174209e-02\n",
      " 1.40811499e+00 6.21980573e-01 9.78695470e-01 2.00013273e+00\n",
      " 2.75500452e+00 3.38927882e-02 1.39360918e-02 1.45715458e+00\n",
      " 1.70917509e+00 2.02609718e+00 1.75894431e+00 2.52884206e+00\n",
      " 3.99526663e-01 1.25582362e+00 1.43789475e+00 7.50325268e-01\n",
      " 2.09492352e+00 2.01846456e+00 2.71029358e+00 6.48551161e-01\n",
      " 7.96952735e-01 5.40686725e-01 7.41851477e-01 1.04045348e+00\n",
      " 6.51270491e-02 9.12057365e-01 1.22673344e+00 1.70442512e+00\n",
      " 7.81622433e+00 1.24515786e+00 4.78273647e-01 8.49291017e-01\n",
      " 3.70482798e-01 4.83673294e-01 2.56381619e+00 2.05912003e-02\n",
      " 2.17933573e+00 2.41392095e+00 6.51553368e-01 1.54655504e+00\n",
      " 8.07137932e-01 2.66995315e-02 1.40802523e+00 1.26716007e+00]\n"
     ]
    },
    {
     "data": {
      "text/plain": [
       "<Figure size 432x288 with 0 Axes>"
      ]
     },
     "execution_count": 160,
     "metadata": {},
     "output_type": "execute_result"
    },
    {
     "data": {
      "text/plain": [
       "Text(0.5, 0, 'Iterations')"
      ]
     },
     "execution_count": 160,
     "metadata": {},
     "output_type": "execute_result"
    },
    {
     "data": {
      "text/plain": [
       "Text(0, 0.5, 'Error')"
      ]
     },
     "execution_count": 160,
     "metadata": {},
     "output_type": "execute_result"
    },
    {
     "data": {
      "text/plain": [
       "Text(0.5, 1.0, 'Error vs Iterations')"
      ]
     },
     "execution_count": 160,
     "metadata": {},
     "output_type": "execute_result"
    },
    {
     "data": {
      "text/plain": [
       "[<matplotlib.lines.Line2D at 0x11fcadf90>]"
      ]
     },
     "execution_count": 160,
     "metadata": {},
     "output_type": "execute_result"
    },
    {
     "data": {
      "image/png": "[encoded data removed]",
      "text/plain": [
       "<Figure size 432x288 with 1 Axes>"
      ]
     },
     "metadata": {
      "needs_background": "light"
     },
     "output_type": "display_data"
    },
    {
     "name": "stdout",
     "output_type": "stream",
     "text": [
      "Accuracy Every 50 Iterations : [0.09785714 0.10714286 0.17857143 0.31714286 0.48571429 0.46928571\n",
      " 0.45642857 0.49357143 0.60214286 0.50071429 0.59428571 0.63857143\n",
      " 0.59714286 0.63357143 0.55785714 0.59071429 0.58571429 0.57785714\n",
      " 0.58857143 0.595      0.61642857 0.64857143 0.53714286 0.60857143\n",
      " 0.64142857 0.60642857 0.54       0.65642857 0.60928571 0.64285714\n",
      " 0.60357143 0.63642857 0.67642857 0.64714286 0.60857143 0.57928571\n",
      " 0.59571429 0.64142857 0.66       0.59571429 0.595      0.56142857\n",
      " 0.63857143 0.68214286 0.66071429 0.60142857 0.66571429 0.60214286\n",
      " 0.54       0.59214286 0.57428571 0.64       0.49428571 0.64071429\n",
      " 0.66       0.66357143 0.67642857 0.69714286 0.68285714 0.68357143\n",
      " 0.67285714 0.60714286 0.67714286 0.68357143 0.66071429 0.67214286\n",
      " 0.61       0.63142857 0.68       0.67357143 0.67642857 0.61571429\n",
      " 0.66071429 0.61785714 0.58571429 0.65857143 0.66214286 0.67642857\n",
      " 0.65785714 0.67785714 0.64214286 0.60857143 0.67071429 0.69571429\n",
      " 0.66785714 0.62214286 0.58857143 0.70285714 0.62642857 0.68214286\n",
      " 0.63142857 0.64285714 0.64071429 0.63571429 0.58714286 0.67857143\n",
      " 0.61928571 0.66214286 0.58       0.68214286 0.66714286 0.64285714\n",
      " 0.63285714 0.62428571 0.67714286 0.66714286 0.67       0.65357143\n",
      " 0.64142857 0.62857143 0.68142857 0.68928571 0.67642857 0.67714286\n",
      " 0.63857143 0.61642857 0.65285714 0.63714286 0.67714286 0.68428571\n",
      " 0.68428571 0.615      0.66571429 0.66857143 0.65928571 0.67071429\n",
      " 0.63928571 0.60071429 0.69071429 0.58214286 0.66       0.70357143\n",
      " 0.61428571 0.70142857 0.685      0.66       0.63285714 0.61928571\n",
      " 0.68       0.65642857 0.69357143 0.67928571 0.65928571 0.67142857\n",
      " 0.66285714 0.69214286 0.67       0.66214286 0.69071429 0.68285714\n",
      " 0.685      0.71071429 0.69       0.65357143 0.61857143 0.63357143\n",
      " 0.64357143 0.69071429 0.68214286 0.65357143 0.67571429 0.68071429\n",
      " 0.665      0.63642857 0.66642857 0.70428571 0.71142857 0.71071429\n",
      " 0.67214286 0.64       0.705      0.65714286 0.63428571 0.69785714\n",
      " 0.63857143 0.70071429 0.68785714 0.70428571 0.66428571 0.69357143\n",
      " 0.705      0.66285714 0.63214286 0.67928571 0.65142857 0.64357143\n",
      " 0.64285714 0.70071429 0.69285714 0.685      0.69       0.64857143\n",
      " 0.67071429 0.64857143 0.7        0.685      0.71785714 0.69214286\n",
      " 0.635      0.64928571]\n"
     ]
    },
    {
     "data": {
      "text/plain": [
       "<Figure size 432x288 with 0 Axes>"
      ]
     },
     "execution_count": 160,
     "metadata": {},
     "output_type": "execute_result"
    },
    {
     "data": {
      "text/plain": [
       "Text(0.5, 0, 'Iterations')"
      ]
     },
     "execution_count": 160,
     "metadata": {},
     "output_type": "execute_result"
    },
    {
     "data": {
      "text/plain": [
       "Text(0, 0.5, 'Accuracy')"
      ]
     },
     "execution_count": 160,
     "metadata": {},
     "output_type": "execute_result"
    },
    {
     "data": {
      "text/plain": [
       "Text(0.5, 1.0, 'Accuracy vs Iterations')"
      ]
     },
     "execution_count": 160,
     "metadata": {},
     "output_type": "execute_result"
    },
    {
     "data": {
      "text/plain": [
       "[<matplotlib.lines.Line2D at 0x120226ad0>]"
      ]
     },
     "execution_count": 160,
     "metadata": {},
     "output_type": "execute_result"
    },
    {
     "data": {
      "image/png": "[encoded data removed]",
      "text/plain": [
       "<Figure size 432x288 with 1 Axes>"
      ]
     },
     "metadata": {
      "needs_background": "light"
     },
     "output_type": "display_data"
    },
    {
     "name": "stdout",
     "output_type": "stream",
     "text": [
      "Loss After completing training : 1.2671600712255102\n",
      "Accuracy After completing training : 0.6492857142857142\n",
      "\n",
      "Loss After completing testing : [[3.54156918]]\n",
      "Accuracy After completing testing : 0.6216666666666667\n",
      "For learning rate 0.1\n",
      "Output Layer Weights :\n",
      " [[ 0.04669458 -2.45384767 -4.00306426 -0.91877304  6.32002758 -4.32272383\n",
      "   3.6204213   1.6852211 ]\n",
      " [-3.67075493 -2.49695909 -2.47391629 -0.20599298  5.38070068  4.68675515\n",
      "  -3.75999687 -2.0833472 ]\n",
      " [ 3.47261127 -2.35237851 -4.44735967 -1.43386048 -0.66260467 -1.43608587\n",
      "  -2.54057442  2.73509738]\n",
      " [ 1.62820923  1.60910482 -1.63344508 -3.41092112 -1.58762906  1.36545165\n",
      "  -2.03707419 -0.67947798]\n",
      " [-2.00927116 -0.52102609 -1.76602102 -2.63539506 -4.33045047  5.40732243\n",
      "  -1.99286074  0.57266847]\n",
      " [ 3.88630952  2.52611841 -3.3609097  -1.30846456 -2.41147014 -2.67408458\n",
      "  -2.94151214  0.24633045]\n",
      " [-4.2420452  -2.72963185 -0.21059169  0.58567132 -3.28915146 -2.63307759\n",
      "  -2.31865342  0.3142616 ]\n",
      " [ 2.67531367 -4.29285012 -2.80799532  0.61752927 -3.68811039  3.71226953\n",
      "  -1.11857337 -1.82447589]\n",
      " [-1.80585093  1.9933526  -2.19030517  0.38703191 -5.40253373 -1.64197418\n",
      "   7.35545209 -1.82886884]\n",
      " [-3.45464523 -3.09538539 -0.93843696  0.28972447 -3.14937423 -3.09715099\n",
      "  -3.03453474 -0.59112048]] \n",
      "Output Layer Bias : \n",
      " [[-1.6334261  -2.86751691 -0.50937786 -1.35993412 -2.41711537 -0.40731488\n",
      "   0.14580063 -2.99013452 -2.50259878  1.08431303]] \n",
      "Hidden Layer2 Weights : \n",
      " [[ 0.98575822  0.02369059 -2.19370703  0.13665591 -3.28524936  4.02501018\n",
      "  -1.11499114  0.47144108]\n",
      " [ 5.36400555 -1.43557846 -1.45834224 -1.53877211  0.37358451 -1.1985778\n",
      "  -1.08344493  2.45251198]\n",
      " [ 0.94563002  2.02808276 -0.49511195  1.46243545  2.0377321   0.183935\n",
      "   1.48462351  2.1676764 ]\n",
      " [ 0.44942305 -0.59098234  2.35337995  1.41464861 -0.71353489  0.62214506\n",
      "   0.79942859 -2.33925441]\n",
      " [-3.26650474 -1.09076877  0.06889477  0.13747106 -5.18581328 -4.93762563\n",
      "   4.00091427 -1.26769744]\n",
      " [-2.41759652  5.46396435 -2.90950471 -4.35306794  0.48245762 -0.68015042\n",
      "   1.34155008 -2.4444936 ]\n",
      " [ 3.82804229 -5.72042705  1.28573758  0.32794116 -1.20315083  1.07247553\n",
      "   1.64629847 -1.73426671]\n",
      " [-2.52057614 -0.61367402 -0.78271018  2.08480585 -1.80320573 -1.11111568\n",
      "  -0.92820848  2.76619309]] \n",
      "Hidden Layer2 Bias : \n",
      "[[-0.34692203 -0.13426472 -0.24270348 -0.45226009  0.75986848 -0.31087554\n",
      "  -0.80733362  0.78826137]] \n",
      "Hidden Layer1 Weights :\n",
      " [[ 1.5271534  -0.18399964  2.96840718  1.52210212 -0.73411284  3.68469658]\n",
      " [-1.44232499  2.51988509  0.41231003 -1.3214841   1.33261705 -0.91155316]\n",
      " [ 1.66099192 -2.10977456  0.51711812 -0.17159426 -0.92984339 -1.48370857]\n",
      " [ 2.02978304 -3.2291236  -0.25489383  1.59829751 -1.00954349  2.0702087 ]\n",
      " [ 3.2252326  -0.16930197  4.04773976 -2.31294974  2.42429724  1.24949676]\n",
      " [-1.55309916  0.17888815 -2.54450834  1.96349491  3.17931038 -0.59646203]\n",
      " [-1.49255254  0.66660573 -0.49689842 -0.11147156 -2.40266817 -2.02214717]\n",
      " [ 0.45064729  0.49395465 -0.13444363  1.2443053  -0.93103284  3.50083232]] \n",
      "Hidden Layer1 Bias : \n",
      "[[-3.57714672  1.92762773  0.78584997  1.0603908  -0.10454463 -2.03899311\n",
      "  -2.68238114 -0.99132107]] \n",
      "Error Every 50 Iterations : [6.70263791 3.79741784 3.12652072 3.16821774 3.18124648 3.68954714\n",
      " 3.28368998 2.79940328 2.67219352 2.18399778 3.81440094 1.6728676\n",
      " 2.30783727 2.35618616 1.50656909 1.99628568 2.51396125 3.40632532\n",
      " 1.0486656  1.30677626 1.609123   1.36688637 0.96133736 2.60828211\n",
      " 1.47413589 3.08661811 1.18395099 3.01640028 1.5954415  1.90760698\n",
      " 1.10058553 1.36445555 0.80865458 2.2849134  1.50928574 2.28066093\n",
      " 4.57326689 6.07267383 1.59900702 1.12284887 1.63569404 0.57319542\n",
      " 1.36786733 1.84637801 1.28530494 2.17320914 1.19895889 1.89324771\n",
      " 1.19815789 0.53675089 1.29382995 1.90573813 0.34955033 2.96599101\n",
      " 1.85685399 0.39050928 0.6296186  0.41455853 1.15770699 0.28608845\n",
      " 1.6241358  0.73659488 1.64339032 1.04285509 2.96834021 0.83097943\n",
      " 0.42106997 1.31702975 0.5065791  1.66352668 1.32477964 0.24521688\n",
      " 2.28810764 1.37179193 0.96686777 0.35306966 2.74076874 2.61761624\n",
      " 1.41433164 1.37505474 5.77073719 1.54350919 0.25063639 1.2671554\n",
      " 1.70067179 7.5928994  0.20097916 1.01919415 1.1110629  0.59479098\n",
      " 0.17583863 0.45079087 0.26348554 1.20217994 0.1917236  4.15677691\n",
      " 1.09473541 0.75346476 2.14964134 1.9573008  0.73720194 1.00382665\n",
      " 1.92128827 1.20473572 0.16060293 0.9369446  0.89678473 1.7419072\n",
      " 0.14378312 0.12884    0.14861497 1.11856419 1.50977942 1.0297057\n",
      " 1.49149425 1.2769222  1.70524659 0.56529263 1.87772417 1.04347245\n",
      " 3.34417868 1.69596289 1.33620939 0.15280132 1.75575496 3.3720355\n",
      " 1.23343204 0.11624403 0.72200148 0.11244776 2.41169908 1.78846037\n",
      " 2.1788922  1.35423824 2.52754634 0.10000223 1.05701298 1.07728583\n",
      " 0.08995171 0.47986577 0.08846377 3.65043236 2.83898049 1.52066029\n",
      " 2.81627992 5.42382859 3.91994449 1.40612883 1.83078158 1.75590716\n",
      " 1.63381623 1.73595313 1.34779733 0.68712622 6.06945374 2.11974413\n",
      " 0.08906445 0.08184636 0.07344586 0.86644735 1.77559911 1.88851889\n",
      " 4.50463658 0.69790506 1.06042837 1.03130173 1.92463569 2.3678217\n",
      " 1.32127157 0.65848662 0.06602801 0.75226746 0.07089426 0.06534785\n",
      " 0.07225564 0.75533005 0.09341209 0.13999904 0.08634775 0.05183803\n",
      " 0.05165649 0.55689641 5.33248786 1.41412278 1.15061153 1.11670362\n",
      " 0.06455566 0.04736144 1.75533167 0.08802036 1.1998248  0.73037992\n",
      " 0.07200453 0.65674359 0.08054746 0.0425855  1.09246444 0.6609733\n",
      " 1.30805979 0.06692881]\n"
     ]
    },
    {
     "data": {
      "text/plain": [
       "<Figure size 432x288 with 0 Axes>"
      ]
     },
     "execution_count": 160,
     "metadata": {},
     "output_type": "execute_result"
    },
    {
     "data": {
      "text/plain": [
       "Text(0.5, 0, 'Iterations')"
      ]
     },
     "execution_count": 160,
     "metadata": {},
     "output_type": "execute_result"
    },
    {
     "data": {
      "text/plain": [
       "Text(0, 0.5, 'Error')"
      ]
     },
     "execution_count": 160,
     "metadata": {},
     "output_type": "execute_result"
    },
    {
     "data": {
      "text/plain": [
       "Text(0.5, 1.0, 'Error vs Iterations')"
      ]
     },
     "execution_count": 160,
     "metadata": {},
     "output_type": "execute_result"
    },
    {
     "data": {
      "text/plain": [
       "[<matplotlib.lines.Line2D at 0x120a2be90>]"
      ]
     },
     "execution_count": 160,
     "metadata": {},
     "output_type": "execute_result"
    },
    {
     "data": {
      "image/png": "[encoded data removed]",
      "text/plain": [
       "<Figure size 432x288 with 1 Axes>"
      ]
     },
     "metadata": {
      "needs_background": "light"
     },
     "output_type": "display_data"
    },
    {
     "name": "stdout",
     "output_type": "stream",
     "text": [
      "Accuracy Every 50 Iterations : [0.09785714 0.12428571 0.15642857 0.10571429 0.31714286 0.29142857\n",
      " 0.36428571 0.33642857 0.41       0.39071429 0.46214286 0.47214286\n",
      " 0.49142857 0.46714286 0.45571429 0.55571429 0.55428571 0.43928571\n",
      " 0.52857143 0.55285714 0.55       0.46285714 0.46357143 0.48071429\n",
      " 0.555      0.49       0.52642857 0.50214286 0.57214286 0.53\n",
      " 0.61       0.56571429 0.52928571 0.59857143 0.52285714 0.57357143\n",
      " 0.57642857 0.59571429 0.53357143 0.61642857 0.55857143 0.60928571\n",
      " 0.56428571 0.57428571 0.60785714 0.63142857 0.60571429 0.595\n",
      " 0.65642857 0.62071429 0.60857143 0.64285714 0.62214286 0.61571429\n",
      " 0.66142857 0.635      0.64428571 0.63357143 0.65142857 0.62714286\n",
      " 0.615      0.67571429 0.63285714 0.63357143 0.63714286 0.64071429\n",
      " 0.64071429 0.69357143 0.645      0.68857143 0.675      0.66714286\n",
      " 0.69428571 0.69       0.68428571 0.61357143 0.67357143 0.63428571\n",
      " 0.68       0.69285714 0.685      0.67785714 0.68       0.66285714\n",
      " 0.69       0.66857143 0.68571429 0.67857143 0.675      0.68785714\n",
      " 0.68214286 0.65214286 0.64142857 0.695      0.69928571 0.69214286\n",
      " 0.69642857 0.67642857 0.64285714 0.70785714 0.70428571 0.70071429\n",
      " 0.65       0.68428571 0.69714286 0.70428571 0.68071429 0.68642857\n",
      " 0.69857143 0.70357143 0.705      0.69142857 0.68571429 0.69785714\n",
      " 0.66928571 0.68785714 0.64785714 0.685      0.68142857 0.69285714\n",
      " 0.70285714 0.69642857 0.70214286 0.645      0.71071429 0.64428571\n",
      " 0.69071429 0.68785714 0.69285714 0.68571429 0.69571429 0.635\n",
      " 0.70357143 0.69285714 0.67571429 0.68       0.70214286 0.69857143\n",
      " 0.695      0.69571429 0.70142857 0.69857143 0.70785714 0.68928571\n",
      " 0.70214286 0.68428571 0.68       0.69142857 0.68928571 0.67142857\n",
      " 0.69428571 0.685      0.69214286 0.68       0.685      0.69142857\n",
      " 0.66571429 0.68714286 0.69642857 0.70357143 0.69928571 0.66785714\n",
      " 0.69928571 0.69714286 0.69642857 0.69928571 0.68428571 0.69357143\n",
      " 0.70142857 0.68714286 0.69071429 0.70642857 0.68214286 0.65785714\n",
      " 0.67071429 0.69142857 0.69857143 0.69071429 0.69857143 0.70214286\n",
      " 0.70285714 0.70428571 0.70642857 0.69       0.70928571 0.69785714\n",
      " 0.68214286 0.67142857 0.69071429 0.705      0.70357143 0.70642857\n",
      " 0.70214286 0.70428571 0.69571429 0.70714286 0.71428571 0.68071429\n",
      " 0.69928571 0.69571429]\n"
     ]
    },
    {
     "data": {
      "text/plain": [
       "<Figure size 432x288 with 0 Axes>"
      ]
     },
     "execution_count": 160,
     "metadata": {},
     "output_type": "execute_result"
    },
    {
     "data": {
      "text/plain": [
       "Text(0.5, 0, 'Iterations')"
      ]
     },
     "execution_count": 160,
     "metadata": {},
     "output_type": "execute_result"
    },
    {
     "data": {
      "text/plain": [
       "Text(0, 0.5, 'Accuracy')"
      ]
     },
     "execution_count": 160,
     "metadata": {},
     "output_type": "execute_result"
    },
    {
     "data": {
      "text/plain": [
       "Text(0.5, 1.0, 'Accuracy vs Iterations')"
      ]
     },
     "execution_count": 160,
     "metadata": {},
     "output_type": "execute_result"
    },
    {
     "data": {
      "text/plain": [
       "[<matplotlib.lines.Line2D at 0x11fc32450>]"
      ]
     },
     "execution_count": 160,
     "metadata": {},
     "output_type": "execute_result"
    },
    {
     "data": {
      "image/png": "[encoded data removed]",
      "text/plain": [
       "<Figure size 432x288 with 1 Axes>"
      ]
     },
     "metadata": {
      "needs_background": "light"
     },
     "output_type": "display_data"
    },
    {
     "name": "stdout",
     "output_type": "stream",
     "text": [
      "Loss After completing training : 0.06692880968829029\n",
      "Accuracy After completing training : 0.6957142857142857\n",
      "\n",
      "Loss After completing testing : [[1.93401158]]\n",
      "Accuracy After completing testing : 0.645\n",
      "For learning rate 0.01\n",
      "Output Layer Weights :\n",
      " [[-0.37042524  2.16659957  0.13441858 -3.70036074 -0.37557146 -0.8997115\n",
      "   1.42688798 -3.81845838]\n",
      " [-0.8762605  -2.4696757   1.98789156 -2.37057362 -0.67944495 -0.4020417\n",
      "  -0.81804355  3.29708133]\n",
      " [-1.39628685  0.13666088 -1.65226982  0.40018263 -0.97905252  0.56278216\n",
      "  -3.75786961  0.53065888]\n",
      " [ 2.14999644  0.25581112 -1.84712661  1.28174106 -0.8453904   0.17233648\n",
      "  -0.16564352 -1.06950937]\n",
      " [ 1.52241861 -1.19131253 -1.67037298 -0.94001876 -0.01125001  0.45736833\n",
      "   0.80594261  0.35157342]\n",
      " [-1.22364533  0.09005645 -3.1411993   0.68125388 -0.70683973  0.62283603\n",
      "  -0.58051076  0.6782085 ]\n",
      " [-0.91805442 -0.60161745  0.1501348   0.51994859  0.53031676 -2.55823982\n",
      "   0.04108703 -0.57599073]\n",
      " [ 0.10164247 -0.9685237   1.00865472 -2.30976757  0.36084987  2.68606736\n",
      "  -2.31787045  0.24875806]\n",
      " [-0.42520154 -2.16257266  0.03026923  0.89396025  2.87686524 -1.5838323\n",
      "  -0.78513078 -1.90646572]\n",
      " [-0.77852638 -2.00609357 -0.06098844  0.83597819 -3.09533292 -1.60735661\n",
      "   0.3143285  -2.2425497 ]] \n",
      "Output Layer Bias : \n",
      " [[-1.1712884  -2.13178629 -0.40279163 -2.41453684 -1.86926829 -1.37352677\n",
      "  -1.41818987 -1.53769478 -1.27977524 -0.09126575]] \n",
      "Hidden Layer2 Weights : \n",
      " [[-1.23796741 -0.30623281 -0.345868   -0.91583187 -1.51230779 -1.16772214\n",
      "   0.85362218  0.2621676 ]\n",
      " [-1.28412476  1.04201161  0.36701142  2.06568803 -0.56760487 -0.04338249\n",
      "  -2.84491077  1.58001378]\n",
      " [ 1.60320425  1.18113396  1.37887409  0.08038416  1.91476858 -2.77222888\n",
      "   0.45887687  1.30426185]\n",
      " [-0.94508728 -0.47690878 -0.52136908 -1.83267311  0.62272711  4.05972607\n",
      "   1.03432537  0.98211404]\n",
      " [ 0.38152089 -2.69666707  2.7544115  -1.14803444 -0.90224618  2.20430812\n",
      "  -0.17320304 -0.27552221]\n",
      " [-0.55287693  0.35566097 -0.51019726  1.10318153 -2.88687909  0.08325662\n",
      "  -0.15653174 -0.38428413]\n",
      " [ 0.6723581  -2.07308173  1.39674123 -0.5386988   1.80155273 -0.20805073\n",
      "   2.06799784  1.5734414 ]\n",
      " [ 1.21504258  0.65624779 -2.3594231  -0.07366368 -2.51617749 -0.67570185\n",
      "   1.17753227 -0.24417546]] \n",
      "Hidden Layer2 Bias : \n",
      "[[ 1.12131522  0.13490524 -1.21575656 -1.21268815 -2.15549272  1.14813191\n",
      "   0.41223741  0.43258875]] \n",
      "Hidden Layer1 Weights :\n",
      " [[ 0.15522773 -0.16867685 -0.13893169 -0.63385721 -1.55796751 -1.44645236]\n",
      " [-0.90671564 -0.77540978 -1.74447884  0.43818405 -0.93201756  0.06301898]\n",
      " [ 0.45201753 -1.55608838  0.19028133 -0.95515596  1.05251423 -0.93775386]\n",
      " [-0.80872907 -2.10402333 -1.51296079  0.53058243  0.44572666  0.27618428]\n",
      " [ 0.85952405 -2.56335783  2.14037242 -0.25810602 -0.6638718  -0.88302184]\n",
      " [ 2.34567143 -0.4856958   0.57110934  2.2117613   0.04921088  1.08994676]\n",
      " [-2.14104654 -0.20353358  2.99346329 -1.65792402 -0.32455751 -0.895187  ]\n",
      " [-0.27154238 -1.52319524  0.7879094  -0.66975131 -0.21675167  1.01266779]] \n",
      "Hidden Layer1 Bias : \n",
      "[[-0.37867346  1.06409084 -1.28538858 -1.0261855   0.3513906   0.58916811\n",
      "  -0.59007445 -0.22729782]] \n",
      "Error Every 50 Iterations : [12.7671056   9.05574901  4.1226171   6.28172297  4.81284152  4.17087612\n",
      "  3.51180918  4.74090794  3.07118801  3.24243686  3.75255207  2.45938853\n",
      "  2.88438236  3.59921202  2.98502008  3.46528595  3.7127201   2.96067791\n",
      "  2.5368821   3.54572082  2.84495937  3.0800707   2.09017106  3.13578947\n",
      "  3.88741157  2.93024421  2.92243132  2.54668527  2.0471329   2.13436844\n",
      "  2.24359674  1.91035602  2.78052858  4.08179285  1.94015888  4.03796084\n",
      "  2.07353332  3.96849256  3.29214892  3.47779781  2.99941564  2.64615199\n",
      "  1.86473812  1.50612686  3.37038453  1.48427913  1.36325713  2.92742263\n",
      "  3.07758377  1.56209041  2.77687298  2.21724506  2.02851709  3.32246809\n",
      "  2.15005984  1.86446254  4.71353148  2.08614276  1.96505482  2.80045301\n",
      "  1.81259213  2.75525198  2.3989414   2.38746545  3.1287869   2.98726511\n",
      "  1.25887508  3.76406436  2.46747202  2.01368688  1.88921408  2.21028187\n",
      "  2.72970035  2.15250034  2.64746412  2.71903726  1.25899618  1.84291547\n",
      "  2.59509287  1.89095615  2.95441021  1.95593398  1.1498249   2.41916092\n",
      "  1.79750948  2.29062673  2.30076282  2.28778175  1.89391358  1.01580258\n",
      "  2.48216022  1.53153517  2.37719871  2.5042475   2.85506353  2.26787441\n",
      "  4.79819794  2.68853781  1.09157369  2.72541747  1.62501617  2.31468199\n",
      "  2.37364778  2.31128988  2.85757649  0.99438324  1.83444957  2.80393699\n",
      "  2.37930776  1.82331853  1.7614483   2.27572939  2.83606121  1.73226591\n",
      "  1.38325344  1.00152877  1.28253646  1.8528775   2.37669665  2.34181061\n",
      "  2.18007242  2.22056469  0.90298265  2.28013912  1.25397     1.78638713\n",
      "  3.20999503  1.74628211  1.30172591  2.62173807  2.31204731  2.00381421\n",
      "  1.39889315  0.76576802  1.561472    0.74214329  1.7947303   0.71328569\n",
      "  0.72843961  2.3270386   1.80846875  4.11328367  1.26296559  1.56575466\n",
      "  1.740953    3.39704755  2.13883161  1.7558972   1.99837168  1.67765551\n",
      "  1.71204575  1.15118068  2.45155284  2.54248998  1.69228999  1.62564075\n",
      "  0.69251904  2.07422342  1.15090175  2.18304542  0.97398223  0.90329211\n",
      "  2.07707912  1.04418654  3.533514    2.43379826  1.88825187  1.62368627\n",
      "  0.64639038  2.14628757  1.17466893  1.73214453  0.58951126  1.72892488\n",
      "  1.68207854  0.63121422  1.85993265  1.64175529  1.16016748  1.74287391\n",
      "  2.44004327  1.04604225  2.81392918  1.54889827  1.09417615  1.56229792\n",
      "  4.3584565   1.76125031  2.01777271  2.30472321  2.18953475  1.17008104\n",
      "  2.15671056  2.05439767  1.88913039  2.03567371  3.46913113  1.12451219\n",
      "  2.22441638  1.32830406]\n"
     ]
    },
    {
     "data": {
      "text/plain": [
       "<Figure size 432x288 with 0 Axes>"
      ]
     },
     "execution_count": 160,
     "metadata": {},
     "output_type": "execute_result"
    },
    {
     "data": {
      "text/plain": [
       "Text(0.5, 0, 'Iterations')"
      ]
     },
     "execution_count": 160,
     "metadata": {},
     "output_type": "execute_result"
    },
    {
     "data": {
      "text/plain": [
       "Text(0, 0.5, 'Error')"
      ]
     },
     "execution_count": 160,
     "metadata": {},
     "output_type": "execute_result"
    },
    {
     "data": {
      "text/plain": [
       "Text(0.5, 1.0, 'Error vs Iterations')"
      ]
     },
     "execution_count": 160,
     "metadata": {},
     "output_type": "execute_result"
    },
    {
     "data": {
      "text/plain": [
       "[<matplotlib.lines.Line2D at 0x11fc4d390>]"
      ]
     },
     "execution_count": 160,
     "metadata": {},
     "output_type": "execute_result"
    },
    {
     "data": {
      "image/png": "[encoded data removed]",
      "text/plain": [
       "<Figure size 432x288 with 1 Axes>"
      ]
     },
     "metadata": {
      "needs_background": "light"
     },
     "output_type": "display_data"
    },
    {
     "name": "stdout",
     "output_type": "stream",
     "text": [
      "Accuracy Every 50 Iterations : [0.10642857 0.10785714 0.14071429 0.135      0.16428571 0.28857143\n",
      " 0.26714286 0.30571429 0.31428571 0.34214286 0.38928571 0.34428571\n",
      " 0.36142857 0.35214286 0.33785714 0.4        0.385      0.39642857\n",
      " 0.40857143 0.37714286 0.375      0.39642857 0.37714286 0.375\n",
      " 0.36071429 0.38928571 0.40071429 0.39642857 0.38214286 0.35642857\n",
      " 0.36857143 0.31928571 0.33642857 0.41       0.44071429 0.42428571\n",
      " 0.43928571 0.43714286 0.41928571 0.485      0.465      0.49\n",
      " 0.48       0.45214286 0.44857143 0.42285714 0.42285714 0.42\n",
      " 0.44571429 0.49071429 0.50357143 0.51357143 0.48357143 0.48357143\n",
      " 0.51       0.51285714 0.54928571 0.55       0.53357143 0.52571429\n",
      " 0.56071429 0.53785714 0.60571429 0.60285714 0.54071429 0.53\n",
      " 0.54285714 0.53285714 0.54285714 0.55571429 0.58       0.58785714\n",
      " 0.60928571 0.57571429 0.595      0.61214286 0.62571429 0.585\n",
      " 0.58428571 0.56857143 0.57142857 0.56428571 0.59428571 0.57785714\n",
      " 0.575      0.62       0.61214286 0.63       0.63214286 0.63714286\n",
      " 0.63571429 0.57142857 0.56       0.60214286 0.6        0.57714286\n",
      " 0.58285714 0.59642857 0.60285714 0.60571429 0.57714286 0.58357143\n",
      " 0.59       0.63285714 0.65       0.65285714 0.63       0.64428571\n",
      " 0.62857143 0.64857143 0.64142857 0.62785714 0.62785714 0.62642857\n",
      " 0.62642857 0.61785714 0.60785714 0.60142857 0.63785714 0.61\n",
      " 0.605      0.61214286 0.63714286 0.64928571 0.64571429 0.66357143\n",
      " 0.66785714 0.66285714 0.64214286 0.65428571 0.65571429 0.65928571\n",
      " 0.65785714 0.66071429 0.65       0.65214286 0.67071429 0.675\n",
      " 0.66714286 0.66571429 0.66071429 0.665      0.66571429 0.66285714\n",
      " 0.67071429 0.655      0.65       0.64928571 0.63571429 0.64\n",
      " 0.63571429 0.63285714 0.635      0.63714286 0.65857143 0.66285714\n",
      " 0.65571429 0.64285714 0.62071429 0.62285714 0.62214286 0.61357143\n",
      " 0.63357143 0.64428571 0.65714286 0.65571429 0.65357143 0.63785714\n",
      " 0.64214286 0.64714286 0.64357143 0.64428571 0.63785714 0.64428571\n",
      " 0.64785714 0.65142857 0.64785714 0.645      0.66785714 0.67357143\n",
      " 0.65071429 0.64571429 0.64642857 0.66428571 0.67642857 0.67142857\n",
      " 0.66642857 0.675      0.67714286 0.67357143 0.67785714 0.67357143\n",
      " 0.67642857 0.67428571 0.67071429 0.67       0.67       0.65071429\n",
      " 0.67142857 0.68571429]\n"
     ]
    },
    {
     "data": {
      "text/plain": [
       "<Figure size 432x288 with 0 Axes>"
      ]
     },
     "execution_count": 160,
     "metadata": {},
     "output_type": "execute_result"
    },
    {
     "data": {
      "text/plain": [
       "Text(0.5, 0, 'Iterations')"
      ]
     },
     "execution_count": 160,
     "metadata": {},
     "output_type": "execute_result"
    },
    {
     "data": {
      "text/plain": [
       "Text(0, 0.5, 'Accuracy')"
      ]
     },
     "execution_count": 160,
     "metadata": {},
     "output_type": "execute_result"
    },
    {
     "data": {
      "text/plain": [
       "Text(0.5, 1.0, 'Accuracy vs Iterations')"
      ]
     },
     "execution_count": 160,
     "metadata": {},
     "output_type": "execute_result"
    },
    {
     "data": {
      "text/plain": [
       "[<matplotlib.lines.Line2D at 0x120ecc710>]"
      ]
     },
     "execution_count": 160,
     "metadata": {},
     "output_type": "execute_result"
    },
    {
     "data": {
      "image/png": "[encoded data removed]",
      "text/plain": [
       "<Figure size 432x288 with 1 Axes>"
      ]
     },
     "metadata": {
      "needs_background": "light"
     },
     "output_type": "display_data"
    },
    {
     "name": "stdout",
     "output_type": "stream",
     "text": [
      "Loss After completing training : 1.3283040588713537\n",
      "Accuracy After completing training : 0.6857142857142857\n",
      "\n",
      "Loss After completing testing : [[1.54255114]]\n",
      "Accuracy After completing testing : 0.6583333333333333\n"
     ]
    }
   ],
   "source": [
    "for i in alpha:\n",
    "    W2,b2,W1,b1,W,b,error_every_50_iteration,accuracy_every_50_iteration,y_trian_pred = stochastic_GD_double(x_train,y_train,i,10000)\n",
    "    \n",
    "    print(\"For learning rate {}\".format(i))\n",
    "    #Print learned weights\n",
    "    print(\"Output Layer Weights :\\n {} \".format(W))\n",
    "    print(\"Output Layer Bias : \\n {} \".format(b))\n",
    "    print(\"Hidden Layer2 Weights : \\n {} \".format(W2))\n",
    "    print(\"Hidden Layer2 Bias : \\n{} \".format(b2))\n",
    "    print(\"Hidden Layer1 Weights :\\n {} \".format(W1))\n",
    "    print(\"Hidden Layer1 Bias : \\n{} \".format(b1))\n",
    "    \n",
    "    #print and plot error every 50 iterations\n",
    "    error_every_50_iteration = np.array(error_every_50_iteration).reshape(len(error_every_50_iteration))\n",
    "    print('Error Every 50 Iterations : {}'.format(error_every_50_iteration))\n",
    "    iterations = [50*i for i in range(len(error_every_50_iteration))]\n",
    "    plt.figure(1)\n",
    "    plt.xlabel(\"Iterations\")\n",
    "    plt.ylabel(\"Error\")\n",
    "    plt.title(\"Error vs Iterations\",fontsize = 20)\n",
    "    plt.plot(iterations,error_every_50_iteration,color='red',linestyle=\"--\",marker='o')\n",
    "    plt.grid(True)\n",
    "    plt.show()\n",
    "        \n",
    "    # print and plot accuracy every 50 iterations\n",
    "    accuracy_every_50_iteration = np.array(accuracy_every_50_iteration).reshape(len(accuracy_every_50_iteration))\n",
    "    print('Accuracy Every 50 Iterations : {}'.format(accuracy_every_50_iteration))\n",
    "    plt.figure(2)\n",
    "    plt.xlabel(\"Iterations\")\n",
    "    plt.ylabel(\"Accuracy\")\n",
    "    plt.title(\"Accuracy vs Iterations\",fontsize = 20)\n",
    "    plt.plot(iterations,accuracy_every_50_iteration,color='green',linestyle=\"--\",marker='o')\n",
    "    plt.grid(True)\n",
    "    plt.show() \n",
    "    \n",
    "    \n",
    "    \n",
    "    \n",
    "    print(\"Loss After completing training : {}\".format(error_every_50_iteration[-1]))\n",
    "    print(\"Accuracy After completing training : {}\".format(accuracy_every_50_iteration[-1]))\n",
    "    print(\"\")\n",
    "\n",
    "    #testing\n",
    "    one_hot_y_test = np.zeros((y_test.size,y_test.max()+1))\n",
    "    one_hot_y_test[np.arange(y_test.size),y_test]=1\n",
    "    one_hot_y_test = one_hot_y_test[:,1:]\n",
    "\n",
    "    #print loss after testing\n",
    "    Xp = list()\n",
    "    Yp = list()\n",
    "    random_n = random.randint(0,x_test.shape[0]-1)\n",
    "    Xp.append(x_test[random_n])\n",
    "    Yp.append(one_hot_y_test[random_n])\n",
    "    Xp = np.array(Xp) \n",
    "    Yp = np.array(Yp)\n",
    "\n",
    "    #affine transformation\n",
    "    Z1 = Xp.dot(W1.T) + b1 \n",
    "    A1 = sigmoid(Z1)\n",
    "    Z2 = A1.dot(W2.T) + b2 \n",
    "    A2 = sigmoid(Z2)\n",
    "    Z3 = A2.dot(W.T) + b \n",
    "    A3 = sigmoid(Z3) \n",
    "    print(\"Loss After completing testing : {}\".format((-1*Yp).dot(np.log(A3.T)) - (1-Yp).dot(np.log(1-A3.T))))\n",
    "\n",
    "    #print loss after testing  \n",
    "    pred_one_hot_y_test = sigmoid((sigmoid((sigmoid(x_test.dot(W1.T) + b1)).dot(W2.T) + b2)).dot(W.T) + b)\n",
    "    y_test_pred = list()\n",
    "    for row in range(pred_one_hot_y_test.shape[0]):\n",
    "        threshold = 0\n",
    "        highest_column = 0\n",
    "        for column in range(pred_one_hot_y_test.shape[1]):\n",
    "            if(pred_one_hot_y_test[row][column] > threshold):\n",
    "                threshold = pred_one_hot_y_test[row][column]\n",
    "                highest_column = column\n",
    "        y_test_pred.append(highest_column + 1)\n",
    "\n",
    "    correct = 0\n",
    "    for n in range(len(y_test)):\n",
    "        if y_test_pred[n] == y_test[n]:\n",
    "            correct = correct + 1\n",
    "    accuracy_test = correct / len(y_test)\n",
    "\n",
    "\n",
    "    print(\"Accuracy After completing testing : {}\".format(accuracy_test))\n",
    "\n",
    "        "
   ]
  }
 ],
 "metadata": {
  "accelerator": "TPU",
  "colab": {
   "authorship_tag": "ABX9TyM13W9Oa2a/gG+6GlgtTY+O",
   "collapsed_sections": [
    "_ctJAM4AIKRc",
    "TxsJbCRQIR04",
    "wP0GK8K2JOu_",
    "hrFfHFHRUCft",
    "OS9HMbabVJB2",
    "hRuOGhR4Vylu",
    "3hdW9PyrEbVa",
    "fG_YhVzWfwi1",
    "5XbBHe56f20S"
   ],
   "name": "Neural Network.ipynb",
   "provenance": []
  },
  "kernelspec": {
   "display_name": "Python 3",
   "language": "python",
   "name": "python3"
  },
  "language_info": {
   "codemirror_mode": {
    "name": "ipython",
    "version": 3
   },
   "file_extension": ".py",
   "mimetype": "text/x-python",
   "name": "python",
   "nbconvert_exporter": "python",
   "pygments_lexer": "ipython3",
   "version": "3.7.6"
  }
 },
 "nbformat": 4,
 "nbformat_minor": 1
}
